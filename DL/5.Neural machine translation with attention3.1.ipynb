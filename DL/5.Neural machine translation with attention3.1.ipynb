{
 "cells": [
  {
   "cell_type": "markdown",
   "metadata": {},
   "source": [
    "### 淘宝旺旺：充电时间   提醒您：\n",
    "     1. 在所有In[]里的  ### START CODE HERE ### 和  ### END CODE HERE ### 之间的位置 填写您的答案代码，(≈ 3 lines of code)括号里会提示答案大概有几行代码，当然每个人写法可能不一样\n",
    "     2. 鼠标点了当前这个In[]后，再按上面Run按钮运行代码，如果答案正确，将会得到和下面 Expected output提示一致的输出内容\n",
    "\n",
    "\n",
    "#### 切记切记：\n",
    "     1. 首次使用时，每个In[] 一定要从上往下逐个Run，否则如果直接从中间或者后面开始会出现类似变量未定义的错误提示，因为前面的代码都没运行过\n",
    "     2. 如果要移动作业位置的话，单个编程作业一定要整个文件夹拷贝，因为里面的images,datasess 等资源文件/文件夹和.ipynb作业文件是关联的，否则运行会出错\n"
   ]
  },
  {
   "cell_type": "markdown",
   "metadata": {},
   "source": [
    "# Neural Machine Translation\n",
    "\n",
    "Welcome to your first programming assignment for this week! \n",
    "\n",
    "You will build a Neural Machine Translation (NMT) model to translate human readable dates (\"25th of June, 2009\") into machine readable dates (\"2009-06-25\"). You will do this using an attention model, one of the most sophisticated sequence to sequence models. \n",
    "\n",
    "This notebook was produced together with NVIDIA's Deep Learning Institute. \n",
    "\n",
    "Let's load all the packages you will need for this assignment."
   ]
  },
  {
   "cell_type": "code",
   "execution_count": 1,
   "metadata": {},
   "outputs": [
    {
     "name": "stderr",
     "output_type": "stream",
     "text": [
      "D:\\ruanjianbao\\pycharm\\anaconda\\lib\\site-packages\\h5py\\__init__.py:36: FutureWarning: Conversion of the second argument of issubdtype from `float` to `np.floating` is deprecated. In future, it will be treated as `np.float64 == np.dtype(float).type`.\n",
      "  from ._conv import register_converters as _register_converters\n",
      "Using TensorFlow backend.\n"
     ]
    }
   ],
   "source": [
    "from keras.layers import Bidirectional, Concatenate, Permute, Dot, Input, LSTM, Multiply\n",
    "from keras.layers import RepeatVector, Dense, Activation, Lambda\n",
    "from keras.optimizers import Adam\n",
    "from keras.utils import to_categorical\n",
    "from keras.models import load_model, Model\n",
    "import keras.backend as K\n",
    "import numpy as np\n",
    "\n",
    "from faker import Faker\n",
    "import random\n",
    "from tqdm import tqdm\n",
    "from babel.dates import format_date\n",
    "from nmt_utils import *\n",
    "import matplotlib.pyplot as plt\n",
    "%matplotlib inline"
   ]
  },
  {
   "cell_type": "markdown",
   "metadata": {},
   "source": [
    "## 1 - Translating human readable dates into machine readable dates\n",
    "\n",
    "The model you will build here could be used to translate from one language to another, such as translating from English to Hindi. However, language translation requires massive datasets and usually takes days of training on GPUs. To give you a place to experiment with these models even without using massive datasets, we will instead use a simpler \"date translation\" task. \n",
    "\n",
    "The network will input a date written in a variety of possible formats (*e.g. \"the 29th of August 1958\", \"03/30/1968\", \"24 JUNE 1987\"*) and translate them into standardized, machine readable dates (*e.g. \"1958-08-29\", \"1968-03-30\", \"1987-06-24\"*). We will have the network learn to output dates in the common machine-readable format YYYY-MM-DD. \n",
    "\n",
    "\n",
    "\n",
    "<!-- \n",
    "Take a look at [nmt_utils.py](./nmt_utils.py) to see all the formatting. Count and figure out how the formats work, you will need this knowledge later. !--> "
   ]
  },
  {
   "cell_type": "markdown",
   "metadata": {},
   "source": [
    "### 1.1 - Dataset\n",
    "\n",
    "We will train the model on a dataset of 10000 human readable dates and their equivalent, standardized, machine readable dates. Let's run the following cells to load the dataset and print some examples. "
   ]
  },
  {
   "cell_type": "code",
   "execution_count": 2,
   "metadata": {},
   "outputs": [
    {
     "name": "stderr",
     "output_type": "stream",
     "text": [
      "100%|█████████████████████████████████████████████████████████████████████████| 10000/10000 [00:00<00:00, 12580.64it/s]\n"
     ]
    }
   ],
   "source": [
    "m = 10000\n",
    "dataset, human_vocab, machine_vocab, inv_machine_vocab = load_dataset(m)"
   ]
  },
  {
   "cell_type": "code",
   "execution_count": 3,
   "metadata": {},
   "outputs": [
    {
     "data": {
      "text/plain": [
       "[('9 may 1998', '1998-05-09'),\n",
       " ('10.09.70', '1970-09-10'),\n",
       " ('4/28/90', '1990-04-28'),\n",
       " ('thursday january 26 1995', '1995-01-26'),\n",
       " ('monday march 7 1983', '1983-03-07'),\n",
       " ('sunday may 22 1988', '1988-05-22'),\n",
       " ('tuesday july 8 2008', '2008-07-08'),\n",
       " ('08 sep 1999', '1999-09-08'),\n",
       " ('1 jan 1981', '1981-01-01'),\n",
       " ('monday may 22 1995', '1995-05-22')]"
      ]
     },
     "execution_count": 3,
     "metadata": {},
     "output_type": "execute_result"
    }
   ],
   "source": [
    "dataset[:10]"
   ]
  },
  {
   "cell_type": "markdown",
   "metadata": {},
   "source": [
    "You've loaded:\n",
    "- `dataset`: a list of tuples of (human readable date, machine readable date)\n",
    "- `human_vocab`: a python dictionary mapping all characters used in the human readable dates to an integer-valued index \n",
    "- `machine_vocab`: a python dictionary mapping all characters used in machine readable dates to an integer-valued index. These indices are not necessarily consistent with `human_vocab`. \n",
    "- `inv_machine_vocab`: the inverse dictionary of `machine_vocab`, mapping from indices back to characters. \n",
    "\n",
    "Let's preprocess the data and map the raw text data into the index values. We will also use Tx=30 (which we assume is the maximum length of the human readable date; if we get a longer input, we would have to truncate it) and Ty=10 (since \"YYYY-MM-DD\" is 10 characters long). "
   ]
  },
  {
   "cell_type": "code",
   "execution_count": 4,
   "metadata": {},
   "outputs": [
    {
     "name": "stdout",
     "output_type": "stream",
     "text": [
      "X.shape: (10000, 30)\n",
      "Y.shape: (10000, 10)\n",
      "Xoh.shape: (10000, 30, 37)\n",
      "Yoh.shape: (10000, 10, 11)\n"
     ]
    }
   ],
   "source": [
    "Tx = 30\n",
    "Ty = 10\n",
    "X, Y, Xoh, Yoh = preprocess_data(dataset, human_vocab, machine_vocab, Tx, Ty)\n",
    "\n",
    "print(\"X.shape:\", X.shape)\n",
    "print(\"Y.shape:\", Y.shape)\n",
    "print(\"Xoh.shape:\", Xoh.shape)\n",
    "print(\"Yoh.shape:\", Yoh.shape)"
   ]
  },
  {
   "cell_type": "markdown",
   "metadata": {},
   "source": [
    "You now have:\n",
    "- `X`: a processed version of the human readable dates in the training set, where each character is replaced by an index mapped to the character via `human_vocab`. Each date is further padded to $T_x$ values with a special character (< pad >). `X.shape = (m, Tx)`\n",
    "- `Y`: a processed version of the machine readable dates in the training set, where each character is replaced by the index it is mapped to in `machine_vocab`. You should have `Y.shape = (m, Ty)`. \n",
    "- `Xoh`: one-hot version of `X`, the \"1\" entry's index is mapped to the character thanks to `human_vocab`. `Xoh.shape = (m, Tx, len(human_vocab))`\n",
    "- `Yoh`: one-hot version of `Y`, the \"1\" entry's index is mapped to the character thanks to `machine_vocab`. `Yoh.shape = (m, Tx, len(machine_vocab))`. Here, `len(machine_vocab) = 11` since there are 11 characters ('-' as well as 0-9). \n"
   ]
  },
  {
   "cell_type": "markdown",
   "metadata": {},
   "source": [
    "Lets also look at some examples of preprocessed training examples. Feel free to play with `index` in the cell below to navigate the dataset and see how source/target dates are preprocessed. "
   ]
  },
  {
   "cell_type": "code",
   "execution_count": 5,
   "metadata": {},
   "outputs": [
    {
     "name": "stdout",
     "output_type": "stream",
     "text": [
      "Source date: 08 sep 1999\n",
      "Target date: 1999-09-08\n",
      "\n",
      "Source after preprocessing (indices): [ 3 11  0 29 17 27  0  4 12 12 12 36 36 36 36 36 36 36 36 36 36 36 36 36\n",
      " 36 36 36 36 36 36]\n",
      "Target after preprocessing (indices): [ 2 10 10 10  0  1 10  0  1  9]\n",
      "\n",
      "Source after preprocessing (one-hot): [[0. 0. 0. ... 0. 0. 0.]\n",
      " [0. 0. 0. ... 0. 0. 0.]\n",
      " [1. 0. 0. ... 0. 0. 0.]\n",
      " ...\n",
      " [0. 0. 0. ... 0. 0. 1.]\n",
      " [0. 0. 0. ... 0. 0. 1.]\n",
      " [0. 0. 0. ... 0. 0. 1.]]\n",
      "Target after preprocessing (one-hot): [[0. 0. 1. 0. 0. 0. 0. 0. 0. 0. 0.]\n",
      " [0. 0. 0. 0. 0. 0. 0. 0. 0. 0. 1.]\n",
      " [0. 0. 0. 0. 0. 0. 0. 0. 0. 0. 1.]\n",
      " [0. 0. 0. 0. 0. 0. 0. 0. 0. 0. 1.]\n",
      " [1. 0. 0. 0. 0. 0. 0. 0. 0. 0. 0.]\n",
      " [0. 1. 0. 0. 0. 0. 0. 0. 0. 0. 0.]\n",
      " [0. 0. 0. 0. 0. 0. 0. 0. 0. 0. 1.]\n",
      " [1. 0. 0. 0. 0. 0. 0. 0. 0. 0. 0.]\n",
      " [0. 1. 0. 0. 0. 0. 0. 0. 0. 0. 0.]\n",
      " [0. 0. 0. 0. 0. 0. 0. 0. 0. 1. 0.]]\n"
     ]
    }
   ],
   "source": [
    "index = 7\n",
    "print(\"Source date:\", dataset[index][0])\n",
    "print(\"Target date:\", dataset[index][1])\n",
    "print()\n",
    "print(\"Source after preprocessing (indices):\", X[index])\n",
    "print(\"Target after preprocessing (indices):\", Y[index])\n",
    "print()\n",
    "print(\"Source after preprocessing (one-hot):\", Xoh[index])\n",
    "print(\"Target after preprocessing (one-hot):\", Yoh[index])"
   ]
  },
  {
   "cell_type": "markdown",
   "metadata": {},
   "source": [
    "## 2 - Neural machine translation with attention\n",
    "\n",
    "If you had to translate a book's paragraph from French to English, you would not read the whole paragraph, then close the book and translate. Even during the translation process, you would read/re-read and focus on the parts of the French paragraph corresponding to the parts of the English you are writing down. \n",
    "\n",
    "The attention mechanism tells a Neural Machine Translation model where it should pay attention to at any step. \n",
    "\n",
    "\n",
    "### 2.1 - Attention mechanism\n",
    "\n",
    "In this part, you will implement the attention mechanism presented in the lecture videos. Here is a figure to remind you how the model works. The diagram on the left shows the attention model. The diagram on the right shows what one \"Attention\" step does to calculate the attention variables $\\alpha^{\\langle t, t' \\rangle}$, which are used to compute the context variable $context^{\\langle t \\rangle}$ for each timestep in the output ($t=1, \\ldots, T_y$). \n",
    "\n",
    "<table>\n",
    "<td> \n",
    "<img src=\"images/attn_model.png\" style=\"width:500;height:500px;\"> <br>\n",
    "</td> \n",
    "<td> \n",
    "<img src=\"images/attn_mechanism.png\" style=\"width:500;height:500px;\"> <br>\n",
    "</td> \n",
    "</table>\n",
    "<caption><center> **Figure 1**: Neural machine translation with attention</center></caption>\n"
   ]
  },
  {
   "cell_type": "markdown",
   "metadata": {},
   "source": [
    "\n",
    "Here are some properties of the model that you may notice: \n",
    "\n",
    "- There are two separate LSTMs in this model (see diagram on the left). Because the one at the bottom of the picture is a Bi-directional LSTM and comes *before* the attention mechanism, we will call it *pre-attention* Bi-LSTM. The LSTM at the top of the diagram comes *after* the attention mechanism, so we will call it the *post-attention* LSTM. The pre-attention Bi-LSTM goes through $T_x$ time steps; the post-attention LSTM goes through $T_y$ time steps. \n",
    "\n",
    "- The post-attention LSTM passes $s^{\\langle t \\rangle}, c^{\\langle t \\rangle}$ from one time step to the next. In the lecture videos, we were using only a basic RNN for the post-activation sequence model, so the state captured by the RNN output activations $s^{\\langle t\\rangle}$. But since we are using an LSTM here, the LSTM has both the output activation $s^{\\langle t\\rangle}$ and the hidden cell state $c^{\\langle t\\rangle}$. However, unlike previous text generation examples (such as Dinosaurus in week 1), in this model the post-activation LSTM at time $t$ does will not take the specific generated $y^{\\langle t-1 \\rangle}$ as input; it only takes $s^{\\langle t\\rangle}$ and $c^{\\langle t\\rangle}$ as input. We have designed the model this way, because (unlike language generation where adjacent characters are highly correlated) there isn't as strong a dependency between the previous character and the next character in a YYYY-MM-DD date. \n",
    "\n",
    "- We use $a^{\\langle t \\rangle} = [\\overrightarrow{a}^{\\langle t \\rangle}; \\overleftarrow{a}^{\\langle t \\rangle}]$ to represent the concatenation of the activations of both the forward-direction and backward-directions of the pre-attention Bi-LSTM. \n",
    "\n",
    "- The diagram on the right uses a `RepeatVector` node to copy $s^{\\langle t-1 \\rangle}$'s value $T_x$ times, and then `Concatenation` to concatenate $s^{\\langle t-1 \\rangle}$ and $a^{\\langle t \\rangle}$ to compute $e^{\\langle t, t'}$, which is then passed through a softmax to compute $\\alpha^{\\langle t, t' \\rangle}$. We'll explain how to use `RepeatVector` and `Concatenation` in Keras below. \n",
    "\n",
    "Lets implement this model. You will start by implementing two functions: `one_step_attention()` and `model()`.\n",
    "\n",
    "**1) `one_step_attention()`**: At step $t$, given all the hidden states of the Bi-LSTM ($[a^{<1>},a^{<2>}, ..., a^{<T_x>}]$) and the previous hidden state of the second LSTM ($s^{<t-1>}$), `one_step_attention()` will compute the attention weights ($[\\alpha^{<t,1>},\\alpha^{<t,2>}, ..., \\alpha^{<t,T_x>}]$) and output the context vector (see Figure  1 (right) for details):\n",
    "$$context^{<t>} = \\sum_{t' = 0}^{T_x} \\alpha^{<t,t'>}a^{<t'>}\\tag{1}$$ \n",
    "\n",
    "Note that we are denoting the attention in this notebook $context^{\\langle t \\rangle}$. In the lecture videos, the context was denoted $c^{\\langle t \\rangle}$, but here we are calling it $context^{\\langle t \\rangle}$ to avoid confusion with the (post-attention) LSTM's internal memory cell variable, which is sometimes also denoted $c^{\\langle t \\rangle}$. \n",
    "  \n",
    "**2) `model()`**: Implements the entire model. It first runs the input through a Bi-LSTM to get back $[a^{<1>},a^{<2>}, ..., a^{<T_x>}]$. Then, it calls `one_step_attention()` $T_y$ times (`for` loop). At each iteration of this loop, it gives the computed context vector $c^{<t>}$ to the second LSTM, and runs the output of the LSTM through a dense layer with softmax activation to generate a prediction $\\hat{y}^{<t>}$. \n",
    "\n",
    "\n",
    "\n",
    "**Exercise**: Implement `one_step_attention()`. The function `model()` will call the layers in `one_step_attention()` $T_y$ using a for-loop, and it is important that all $T_y$ copies have the same weights. I.e., it should not re-initiaiize the weights every time. In other words, all $T_y$ steps should have shared weights. Here's how you can implement layers with shareable weights in Keras:\n",
    "1. Define the layer objects (as global variables for examples).\n",
    "2. Call these objects when propagating the input.\n",
    "\n",
    "We have defined the layers you need as global variables. Please run the following cells to create them. Please check the Keras documentation to make sure you understand what these layers are: [RepeatVector()](https://keras.io/layers/core/#repeatvector), [Concatenate()](https://keras.io/layers/merge/#concatenate), [Dense()](https://keras.io/layers/core/#dense), [Activation()](https://keras.io/layers/core/#activation), [Dot()](https://keras.io/layers/merge/#dot)."
   ]
  },
  {
   "cell_type": "code",
   "execution_count": 6,
   "metadata": {},
   "outputs": [
    {
     "name": "stderr",
     "output_type": "stream",
     "text": [
      "WARNING: Logging before flag parsing goes to stderr.\n",
      "W0826 20:08:45.585019  9460 deprecation_wrapper.py:119] From D:\\ruanjianbao\\pycharm\\anaconda\\lib\\site-packages\\keras\\backend\\tensorflow_backend.py:74: The name tf.get_default_graph is deprecated. Please use tf.compat.v1.get_default_graph instead.\n",
      "\n"
     ]
    }
   ],
   "source": [
    "# Defined shared layers as global variables\n",
    "repeator = RepeatVector(Tx)\n",
    "concatenator = Concatenate(axis=-1)\n",
    "densor1 = Dense(10, activation = \"tanh\")\n",
    "densor2 = Dense(1, activation = \"relu\")\n",
    "activator = Activation(softmax, name='attention_weights') # We are using a custom softmax(axis = 1) loaded in this notebook\n",
    "dotor = Dot(axes = 1)"
   ]
  },
  {
   "cell_type": "markdown",
   "metadata": {},
   "source": [
    "Now you can use these layers to implement `one_step_attention()`. In order to propagate a Keras tensor object X through one of these layers, use `layer(X)` (or `layer([X,Y])` if it requires multiple inputs.), e.g. `densor(X)` will propagate X through the `Dense(1)` layer defined above."
   ]
  },
  {
   "cell_type": "code",
   "execution_count": 21,
   "metadata": {},
   "outputs": [],
   "source": [
    "# GRADED FUNCTION: one_step_attention\n",
    "\n",
    "def one_step_attention(a, s_prev):\n",
    "    \"\"\"\n",
    "    Performs one step of attention: Outputs a context vector computed as a dot product of the attention weights\n",
    "    \"alphas\" and the hidden states \"a\" of the Bi-LSTM.\n",
    "    \n",
    "    Arguments:\n",
    "    a -- hidden state output of the Bi-LSTM, numpy-array of shape (m, Tx, 2*n_a)\n",
    "    s_prev -- previous hidden state of the (post-attention) LSTM, numpy-array of shape (m, n_s)\n",
    "    \n",
    "    Returns:\n",
    "    context -- context vector, input of the next (post-attetion) LSTM cell\n",
    "    \"\"\"\n",
    "    \n",
    "    ### START CODE HERE ###\n",
    "    # Use repeator to repeat s_prev to be of shape (m, Tx, n_s) so that you can concatenate it with all hidden states \"a\" (≈ 1 line)\n",
    "    s_prev = repeator(s_prev)\n",
    "    # Use concatenator to concatenate a and s_prev on the last axis (≈ 1 line)\n",
    "    concat = concatenator([a, s_prev])\n",
    "    # Use densor1 to propagate concat through a small fully-connected neural network to compute the \"intermediate energies\" variable e. (≈1 lines)\n",
    "    e = densor1(concat)\n",
    "    # Use densor2 to propagate e through a small fully-connected neural network to compute the \"energies\" variable energies. (≈1 lines)\n",
    "    energies = densor2(e)\n",
    "    # Use \"activator\" on \"energies\" to compute the attention weights \"alphas\" (≈ 1 line)\n",
    "    alphas = activator(energies)\n",
    "    # Use dotor together with \"alphas\" and \"a\" to compute the context vector to be given to the next (post-attention) LSTM-cell (≈ 1 line)\n",
    "    context = dotor([alphas, a])\n",
    "    ### END CODE HERE ###\n",
    "    \n",
    "    return context"
   ]
  },
  {
   "cell_type": "markdown",
   "metadata": {},
   "source": [
    "You will be able to check the expected output of `one_step_attention()` after you've coded the `model()` function."
   ]
  },
  {
   "cell_type": "markdown",
   "metadata": {},
   "source": [
    "**Exercise**: Implement `model()` as explained in figure 2 and the text above. Again, we have defined global layers that will share weights to be used in `model()`."
   ]
  },
  {
   "cell_type": "code",
   "execution_count": 22,
   "metadata": {},
   "outputs": [],
   "source": [
    "n_a = 32\n",
    "n_s = 64\n",
    "post_activation_LSTM_cell = LSTM(n_s, return_state = True)\n",
    "output_layer = Dense(len(machine_vocab), activation=softmax)"
   ]
  },
  {
   "cell_type": "markdown",
   "metadata": {},
   "source": [
    "Now you can use these layers $T_y$ times in a `for` loop to generate the outputs, and their parameters will not be reinitialized. You will have to carry out the following steps: \n",
    "\n",
    "1. Propagate the input into a [Bidirectional](https://keras.io/layers/wrappers/#bidirectional) [LSTM](https://keras.io/layers/recurrent/#lstm)\n",
    "2. Iterate for $t = 0, \\dots, T_y-1$: \n",
    "    1. Call `one_step_attention()` on $[\\alpha^{<t,1>},\\alpha^{<t,2>}, ..., \\alpha^{<t,T_x>}]$ and $s^{<t-1>}$ to get the context vector $context^{<t>}$.\n",
    "    2. Give $context^{<t>}$ to the post-attention LSTM cell. Remember pass in the previous hidden-state $s^{\\langle t-1\\rangle}$ and cell-states $c^{\\langle t-1\\rangle}$ of this LSTM using `initial_state= [previous hidden state, previous cell state]`. Get back the new hidden state $s^{<t>}$ and the new cell state $c^{<t>}$.\n",
    "    3. Apply a softmax layer to $s^{<t>}$, get the output. \n",
    "    4. Save the output by adding it to the list of outputs.\n",
    "\n",
    "3. Create your Keras model instance, it should have three inputs (\"inputs\", $s^{<0>}$ and $c^{<0>}$) and output the list of \"outputs\"."
   ]
  },
  {
   "cell_type": "code",
   "execution_count": 23,
   "metadata": {},
   "outputs": [],
   "source": [
    "# GRADED FUNCTION: model\n",
    "\n",
    "def model(Tx, Ty, n_a, n_s, human_vocab_size, machine_vocab_size):\n",
    "    \"\"\"\n",
    "    Arguments:\n",
    "    Tx -- length of the input sequence\n",
    "    Ty -- length of the output sequence\n",
    "    n_a -- hidden state size of the Bi-LSTM\n",
    "    n_s -- hidden state size of the post-attention LSTM\n",
    "    human_vocab_size -- size of the python dictionary \"human_vocab\"\n",
    "    machine_vocab_size -- size of the python dictionary \"machine_vocab\"\n",
    "\n",
    "    Returns:\n",
    "    model -- Keras model instance\n",
    "    \"\"\"\n",
    "    \n",
    "    # Define the inputs of your model with a shape (Tx,)\n",
    "    # Define s0 and c0, initial hidden state for the decoder LSTM of shape (n_s,)\n",
    "    X = Input(shape=(Tx, human_vocab_size))\n",
    "    s0 = Input(shape=(n_s,), name='s0')\n",
    "    c0 = Input(shape=(n_s,), name='c0')\n",
    "    s = s0\n",
    "    c = c0\n",
    "    \n",
    "    # Initialize empty list of outputs\n",
    "    outputs = []\n",
    "    \n",
    "    ### START CODE HERE ###\n",
    "    \n",
    "    # Step 1: Define your pre-attention Bi-LSTM. Remember to use return_sequences=True. (≈ 1 line)\n",
    "    a = Bidirectional(LSTM(n_a, return_sequences=True), input_shape=(m, Tx, n_a * 2))(X)\n",
    "\n",
    "    # Step 2: Iterate for Ty steps\n",
    "    for t in range(Ty):\n",
    "\n",
    "        # Step 2.A: Perform one step of the attention mechanism to get back the context vector at step t (≈ 1 line)\n",
    "        context = one_step_attention(a, s)\n",
    "        \n",
    "        # Step 2.B: Apply the post-attention LSTM cell to the \"context\" vector.\n",
    "        # Don't forget to pass: initial_state = [hidden state, cell state] (≈ 1 line)\n",
    "        s, _, c = post_activation_LSTM_cell(context, initial_state=[s, c])\n",
    "\n",
    "        # Step 2.C: Apply Dense layer to the hidden state output of the post-attention LSTM (≈ 1 line)\n",
    "        out = output_layer(s)\n",
    "        \n",
    "        # Step 2.D: Append \"out\" to the \"outputs\" list (≈ 1 line)\n",
    "        outputs.append(out)\n",
    "\n",
    "    # Step 3: Create model instance taking three inputs and returning the list of outputs. (≈ 1 line)\n",
    "    model = Model(inputs=[X, s0, c0], outputs=outputs)\n",
    "    ### END CODE HERE ###\n",
    "    \n",
    "    return model"
   ]
  },
  {
   "cell_type": "markdown",
   "metadata": {},
   "source": [
    "Run the following cell to create your model."
   ]
  },
  {
   "cell_type": "code",
   "execution_count": 24,
   "metadata": {},
   "outputs": [],
   "source": [
    "model = model(Tx, Ty, n_a, n_s, len(human_vocab), len(machine_vocab))"
   ]
  },
  {
   "cell_type": "markdown",
   "metadata": {},
   "source": [
    "Let's get a summary of the model to check if it matches the expected output."
   ]
  },
  {
   "cell_type": "code",
   "execution_count": 25,
   "metadata": {},
   "outputs": [
    {
     "name": "stdout",
     "output_type": "stream",
     "text": [
      "__________________________________________________________________________________________________\n",
      "Layer (type)                    Output Shape         Param #     Connected to                     \n",
      "==================================================================================================\n",
      "input_4 (InputLayer)            (None, 30, 37)       0                                            \n",
      "__________________________________________________________________________________________________\n",
      "s0 (InputLayer)                 (None, 64)           0                                            \n",
      "__________________________________________________________________________________________________\n",
      "bidirectional_4 (Bidirectional) (None, 30, 64)       17920       input_4[0][0]                    \n",
      "__________________________________________________________________________________________________\n",
      "repeat_vector_1 (RepeatVector)  (None, 30, 64)       0           s0[0][0]                         \n",
      "                                                                 lstm_8[0][0]                     \n",
      "                                                                 lstm_8[1][0]                     \n",
      "                                                                 lstm_8[2][0]                     \n",
      "                                                                 lstm_8[3][0]                     \n",
      "                                                                 lstm_8[4][0]                     \n",
      "                                                                 lstm_8[5][0]                     \n",
      "                                                                 lstm_8[6][0]                     \n",
      "                                                                 lstm_8[7][0]                     \n",
      "                                                                 lstm_8[8][0]                     \n",
      "__________________________________________________________________________________________________\n",
      "concatenate_1 (Concatenate)     (None, 30, 128)      0           bidirectional_4[0][0]            \n",
      "                                                                 repeat_vector_1[0][0]            \n",
      "                                                                 bidirectional_4[0][0]            \n",
      "                                                                 repeat_vector_1[1][0]            \n",
      "                                                                 bidirectional_4[0][0]            \n",
      "                                                                 repeat_vector_1[2][0]            \n",
      "                                                                 bidirectional_4[0][0]            \n",
      "                                                                 repeat_vector_1[3][0]            \n",
      "                                                                 bidirectional_4[0][0]            \n",
      "                                                                 repeat_vector_1[4][0]            \n",
      "                                                                 bidirectional_4[0][0]            \n",
      "                                                                 repeat_vector_1[5][0]            \n",
      "                                                                 bidirectional_4[0][0]            \n",
      "                                                                 repeat_vector_1[6][0]            \n",
      "                                                                 bidirectional_4[0][0]            \n",
      "                                                                 repeat_vector_1[7][0]            \n",
      "                                                                 bidirectional_4[0][0]            \n",
      "                                                                 repeat_vector_1[8][0]            \n",
      "                                                                 bidirectional_4[0][0]            \n",
      "                                                                 repeat_vector_1[9][0]            \n",
      "__________________________________________________________________________________________________\n",
      "dense_1 (Dense)                 (None, 30, 10)       1290        concatenate_1[0][0]              \n",
      "                                                                 concatenate_1[1][0]              \n",
      "                                                                 concatenate_1[2][0]              \n",
      "                                                                 concatenate_1[3][0]              \n",
      "                                                                 concatenate_1[4][0]              \n",
      "                                                                 concatenate_1[5][0]              \n",
      "                                                                 concatenate_1[6][0]              \n",
      "                                                                 concatenate_1[7][0]              \n",
      "                                                                 concatenate_1[8][0]              \n",
      "                                                                 concatenate_1[9][0]              \n",
      "__________________________________________________________________________________________________\n",
      "dense_2 (Dense)                 (None, 30, 1)        11          dense_1[0][0]                    \n",
      "                                                                 dense_1[1][0]                    \n",
      "                                                                 dense_1[2][0]                    \n",
      "                                                                 dense_1[3][0]                    \n",
      "                                                                 dense_1[4][0]                    \n",
      "                                                                 dense_1[5][0]                    \n",
      "                                                                 dense_1[6][0]                    \n",
      "                                                                 dense_1[7][0]                    \n",
      "                                                                 dense_1[8][0]                    \n",
      "                                                                 dense_1[9][0]                    \n",
      "__________________________________________________________________________________________________\n",
      "attention_weights (Activation)  (None, 30, 1)        0           dense_2[0][0]                    \n",
      "                                                                 dense_2[1][0]                    \n",
      "                                                                 dense_2[2][0]                    \n",
      "                                                                 dense_2[3][0]                    \n",
      "                                                                 dense_2[4][0]                    \n",
      "                                                                 dense_2[5][0]                    \n",
      "                                                                 dense_2[6][0]                    \n",
      "                                                                 dense_2[7][0]                    \n",
      "                                                                 dense_2[8][0]                    \n",
      "                                                                 dense_2[9][0]                    \n",
      "__________________________________________________________________________________________________\n",
      "dot_1 (Dot)                     (None, 1, 64)        0           attention_weights[0][0]          \n",
      "                                                                 bidirectional_4[0][0]            \n",
      "                                                                 attention_weights[1][0]          \n",
      "                                                                 bidirectional_4[0][0]            \n",
      "                                                                 attention_weights[2][0]          \n",
      "                                                                 bidirectional_4[0][0]            \n",
      "                                                                 attention_weights[3][0]          \n",
      "                                                                 bidirectional_4[0][0]            \n"
     ]
    },
    {
     "name": "stdout",
     "output_type": "stream",
     "text": [
      "                                                                 attention_weights[4][0]          \n",
      "                                                                 bidirectional_4[0][0]            \n",
      "                                                                 attention_weights[5][0]          \n",
      "                                                                 bidirectional_4[0][0]            \n",
      "                                                                 attention_weights[6][0]          \n",
      "                                                                 bidirectional_4[0][0]            \n",
      "                                                                 attention_weights[7][0]          \n",
      "                                                                 bidirectional_4[0][0]            \n",
      "                                                                 attention_weights[8][0]          \n",
      "                                                                 bidirectional_4[0][0]            \n",
      "                                                                 attention_weights[9][0]          \n",
      "                                                                 bidirectional_4[0][0]            \n",
      "__________________________________________________________________________________________________\n",
      "c0 (InputLayer)                 (None, 64)           0                                            \n",
      "__________________________________________________________________________________________________\n",
      "lstm_8 (LSTM)                   [(None, 64), (None,  33024       dot_1[0][0]                      \n",
      "                                                                 s0[0][0]                         \n",
      "                                                                 c0[0][0]                         \n",
      "                                                                 dot_1[1][0]                      \n",
      "                                                                 lstm_8[0][0]                     \n",
      "                                                                 lstm_8[0][2]                     \n",
      "                                                                 dot_1[2][0]                      \n",
      "                                                                 lstm_8[1][0]                     \n",
      "                                                                 lstm_8[1][2]                     \n",
      "                                                                 dot_1[3][0]                      \n",
      "                                                                 lstm_8[2][0]                     \n",
      "                                                                 lstm_8[2][2]                     \n",
      "                                                                 dot_1[4][0]                      \n",
      "                                                                 lstm_8[3][0]                     \n",
      "                                                                 lstm_8[3][2]                     \n",
      "                                                                 dot_1[5][0]                      \n",
      "                                                                 lstm_8[4][0]                     \n",
      "                                                                 lstm_8[4][2]                     \n",
      "                                                                 dot_1[6][0]                      \n",
      "                                                                 lstm_8[5][0]                     \n",
      "                                                                 lstm_8[5][2]                     \n",
      "                                                                 dot_1[7][0]                      \n",
      "                                                                 lstm_8[6][0]                     \n",
      "                                                                 lstm_8[6][2]                     \n",
      "                                                                 dot_1[8][0]                      \n",
      "                                                                 lstm_8[7][0]                     \n",
      "                                                                 lstm_8[7][2]                     \n",
      "                                                                 dot_1[9][0]                      \n",
      "                                                                 lstm_8[8][0]                     \n",
      "                                                                 lstm_8[8][2]                     \n",
      "__________________________________________________________________________________________________\n",
      "dense_7 (Dense)                 (None, 11)           715         lstm_8[0][0]                     \n",
      "                                                                 lstm_8[1][0]                     \n",
      "                                                                 lstm_8[2][0]                     \n",
      "                                                                 lstm_8[3][0]                     \n",
      "                                                                 lstm_8[4][0]                     \n",
      "                                                                 lstm_8[5][0]                     \n",
      "                                                                 lstm_8[6][0]                     \n",
      "                                                                 lstm_8[7][0]                     \n",
      "                                                                 lstm_8[8][0]                     \n",
      "                                                                 lstm_8[9][0]                     \n",
      "==================================================================================================\n",
      "Total params: 52,960\n",
      "Trainable params: 52,960\n",
      "Non-trainable params: 0\n",
      "__________________________________________________________________________________________________\n"
     ]
    }
   ],
   "source": [
    "model.summary()   #这里应该是excepted有误"
   ]
  },
  {
   "cell_type": "markdown",
   "metadata": {},
   "source": [
    "**Expected Output**:\n",
    "\n",
    "Here is the summary you should see\n",
    "<table>\n",
    "    <tr>\n",
    "        <td>\n",
    "            **Total params:**\n",
    "        </td>\n",
    "        <td>\n",
    "         185,484\n",
    "        </td>\n",
    "    </tr>\n",
    "        <tr>\n",
    "        <td>\n",
    "            **Trainable params:**\n",
    "        </td>\n",
    "        <td>\n",
    "         185,484\n",
    "        </td>\n",
    "    </tr>\n",
    "            <tr>\n",
    "        <td>\n",
    "            **Non-trainable params:**\n",
    "        </td>\n",
    "        <td>\n",
    "         0\n",
    "        </td>\n",
    "    </tr>\n",
    "                    <tr>\n",
    "        <td>\n",
    "            **bidirectional_1's output shape **\n",
    "        </td>\n",
    "        <td>\n",
    "         (None, 30, 128)  \n",
    "        </td>\n",
    "    </tr>\n",
    "    <tr>\n",
    "        <td>\n",
    "            **repeat_vector_1's output shape **\n",
    "        </td>\n",
    "        <td>\n",
    "         (None, 30, 128)  \n",
    "        </td>\n",
    "    </tr>\n",
    "                <tr>\n",
    "        <td>\n",
    "            **concatenate_1's output shape **\n",
    "        </td>\n",
    "        <td>\n",
    "         (None, 30, 256) \n",
    "        </td>\n",
    "    </tr>\n",
    "            <tr>\n",
    "        <td>\n",
    "            **attention_weights's output shape **\n",
    "        </td>\n",
    "        <td>\n",
    "         (None, 30, 1)  \n",
    "        </td>\n",
    "    </tr>\n",
    "        <tr>\n",
    "        <td>\n",
    "            **dot_1's output shape **\n",
    "        </td>\n",
    "        <td>\n",
    "         (None, 1, 128) \n",
    "        </td>\n",
    "    </tr>\n",
    "           <tr>\n",
    "        <td>\n",
    "            **dense_2's output shape **\n",
    "        </td>\n",
    "        <td>\n",
    "         (None, 11) \n",
    "        </td>\n",
    "    </tr>\n",
    "</table>\n"
   ]
  },
  {
   "cell_type": "markdown",
   "metadata": {},
   "source": [
    "As usual, after creating your model in Keras, you need to compile it and define what loss, optimizer and metrics your are want to use. Compile your model using `categorical_crossentropy` loss, a custom [Adam](https://keras.io/optimizers/#adam) [optimizer](https://keras.io/optimizers/#usage-of-optimizers) (`learning rate = 0.005`, $\\beta_1 = 0.9$, $\\beta_2 = 0.999$, `decay = 0.01`)  and `['accuracy']` metrics:"
   ]
  },
  {
   "cell_type": "code",
   "execution_count": 26,
   "metadata": {},
   "outputs": [
    {
     "name": "stderr",
     "output_type": "stream",
     "text": [
      "W0826 20:20:19.849302  9460 deprecation_wrapper.py:119] From D:\\ruanjianbao\\pycharm\\anaconda\\lib\\site-packages\\keras\\optimizers.py:790: The name tf.train.Optimizer is deprecated. Please use tf.compat.v1.train.Optimizer instead.\n",
      "\n",
      "W0826 20:20:19.874233  9460 deprecation_wrapper.py:119] From D:\\ruanjianbao\\pycharm\\anaconda\\lib\\site-packages\\keras\\backend\\tensorflow_backend.py:3295: The name tf.log is deprecated. Please use tf.math.log instead.\n",
      "\n"
     ]
    }
   ],
   "source": [
    "### START CODE HERE ### (≈2 lines)\n",
    "opt = Adam(lr=0.005, beta_1=0.9, beta_2=0.999, decay=0.01)\n",
    "model.compile(loss='categorical_crossentropy', optimizer=opt, metrics=['accuracy'])\n",
    "### END CODE HERE ###"
   ]
  },
  {
   "cell_type": "markdown",
   "metadata": {},
   "source": [
    "The last step is to define all your inputs and outputs to fit the model:\n",
    "- You already have X of shape $(m = 10000, T_x = 30)$ containing the training examples.\n",
    "- You need to create `s0` and `c0` to initialize your `post_activation_LSTM_cell` with 0s.\n",
    "- Given the `model()` you coded, you need the \"outputs\" to be a list of 11 elements of shape (m, T_y). So that: `outputs[i][0], ..., outputs[i][Ty]` represent the true labels (characters) corresponding to the $i^{th}$ training example (`X[i]`). More generally, `outputs[i][j]` is the true label of the $j^{th}$ character in the $i^{th}$ training example."
   ]
  },
  {
   "cell_type": "code",
   "execution_count": 27,
   "metadata": {},
   "outputs": [],
   "source": [
    "s0 = np.zeros((m, n_s))\n",
    "c0 = np.zeros((m, n_s))\n",
    "outputs = list(Yoh.swapaxes(0,1))"
   ]
  },
  {
   "cell_type": "markdown",
   "metadata": {},
   "source": [
    "Let's now fit the model and run it for one epoch."
   ]
  },
  {
   "cell_type": "code",
   "execution_count": 28,
   "metadata": {},
   "outputs": [
    {
     "name": "stderr",
     "output_type": "stream",
     "text": [
      "W0826 20:20:25.285756  9460 deprecation.py:323] From D:\\ruanjianbao\\pycharm\\anaconda\\lib\\site-packages\\tensorflow\\python\\ops\\math_grad.py:1250: add_dispatch_support.<locals>.wrapper (from tensorflow.python.ops.array_ops) is deprecated and will be removed in a future version.\n",
      "Instructions for updating:\n",
      "Use tf.where in 2.0, which has the same broadcast rule as np.where\n",
      "W0826 20:20:35.334874  9460 deprecation_wrapper.py:119] From D:\\ruanjianbao\\pycharm\\anaconda\\lib\\site-packages\\keras\\backend\\tensorflow_backend.py:986: The name tf.assign_add is deprecated. Please use tf.compat.v1.assign_add instead.\n",
      "\n"
     ]
    },
    {
     "name": "stdout",
     "output_type": "stream",
     "text": [
      "Epoch 1/1\n"
     ]
    },
    {
     "name": "stdout",
     "output_type": "stream",
     "text": [
      " 2800/10000 [=======>......................] - ETA: 35:09 - loss: 23.9857 - dense_7_loss: 2.4106 - dense_7_acc: 0.0000e+00 - dense_7_acc_1: 0.0000e+00 - dense_7_acc_2: 0.0000e+00 - dense_7_acc_3: 0.1100 - dense_7_acc_4: 0.0000e+00 - dense_7_acc_5: 0.0000e+00 - dense_7_acc_6: 0.0300 - dense_7_acc_7: 0.0000e+00 - dense_7_acc_8: 0.0300 - dense_7_acc_9: 0.04 - ETA: 17:30 - loss: 23.7703 - dense_7_loss: 2.4126 - dense_7_acc: 0.0000e+00 - dense_7_acc_1: 0.0000e+00 - dense_7_acc_2: 0.0000e+00 - dense_7_acc_3: 0.0550 - dense_7_acc_4: 0.5000 - dense_7_acc_5: 0.0000e+00 - dense_7_acc_6: 0.0150 - dense_7_acc_7: 0.5000 - dense_7_acc_8: 0.0150 - dense_7_acc_9: 0.0250       - ETA: 11:37 - loss: 23.5596 - dense_7_loss: 2.4126 - dense_7_acc: 0.0000e+00 - dense_7_acc_1: 0.0000e+00 - dense_7_acc_2: 0.0000e+00 - dense_7_acc_3: 0.0367 - dense_7_acc_4: 0.6667 - dense_7_acc_5: 0.0000e+00 - dense_7_acc_6: 0.0100 - dense_7_acc_7: 0.6667 - dense_7_acc_8: 0.0100 - dense_7_acc_9: 0.01 - ETA: 8:41 - loss: 23.2934 - dense_7_loss: 2.4425 - dense_7_acc: 0.0000e+00 - dense_7_acc_1: 0.0000e+00 - dense_7_acc_2: 0.0000e+00 - dense_7_acc_3: 0.0275 - dense_7_acc_4: 0.7500 - dense_7_acc_5: 0.0000e+00 - dense_7_acc_6: 0.0075 - dense_7_acc_7: 0.7500 - dense_7_acc_8: 0.0075 - dense_7_acc_9: 0.0125 - ETA: 6:55 - loss: 23.0964 - dense_7_loss: 2.5566 - dense_7_acc: 0.0000e+00 - dense_7_acc_1: 0.0000e+00 - dense_7_acc_2: 0.0000e+00 - dense_7_acc_3: 0.0220 - dense_7_acc_4: 0.8000 - dense_7_acc_5: 0.0000e+00 - dense_7_acc_6: 0.0060 - dense_7_acc_7: 0.8000 - dense_7_acc_8: 0.0060 - dense_7_acc_9: 0.010 - ETA: 5:44 - loss: 22.9147 - dense_7_loss: 2.6989 - dense_7_acc: 0.0000e+00 - dense_7_acc_1: 0.0000e+00 - dense_7_acc_2: 0.0000e+00 - dense_7_acc_3: 0.0183 - dense_7_acc_4: 0.8333 - dense_7_acc_5: 0.0000e+00 - dense_7_acc_6: 0.0050 - dense_7_acc_7: 0.8333 - dense_7_acc_8: 0.0050 - dense_7_acc_9: 0.008 - ETA: 4:54 - loss: 22.7757 - dense_7_loss: 2.7860 - dense_7_acc: 0.0000e+00 - dense_7_acc_1: 0.0000e+00 - dense_7_acc_2: 0.0000e+00 - dense_7_acc_3: 0.0157 - dense_7_acc_4: 0.8571 - dense_7_acc_5: 0.0000e+00 - dense_7_acc_6: 0.0043 - dense_7_acc_7: 0.8571 - dense_7_acc_8: 0.0043 - dense_7_acc_9: 0.008 - ETA: 4:16 - loss: 22.6329 - dense_7_loss: 2.8274 - dense_7_acc: 0.0000e+00 - dense_7_acc_1: 0.0000e+00 - dense_7_acc_2: 0.0000e+00 - dense_7_acc_3: 0.0175 - dense_7_acc_4: 0.8525 - dense_7_acc_5: 0.0550 - dense_7_acc_6: 0.0125 - dense_7_acc_7: 0.7537 - dense_7_acc_8: 0.0437 - dense_7_acc_9: 0.0162    - ETA: 3:47 - loss: 22.5130 - dense_7_loss: 2.8524 - dense_7_acc: 0.0000e+00 - dense_7_acc_1: 0.0000e+00 - dense_7_acc_2: 0.0000e+00 - dense_7_acc_3: 0.0156 - dense_7_acc_4: 0.8689 - dense_7_acc_5: 0.0489 - dense_7_acc_6: 0.0111 - dense_7_acc_7: 0.7811 - dense_7_acc_8: 0.0389 - dense_7_acc_9: 0.014 - ETA: 3:24 - loss: 22.3922 - dense_7_loss: 2.8390 - dense_7_acc: 0.0000e+00 - dense_7_acc_1: 0.0000e+00 - dense_7_acc_2: 0.0000e+00 - dense_7_acc_3: 0.0140 - dense_7_acc_4: 0.8820 - dense_7_acc_5: 0.0440 - dense_7_acc_6: 0.0100 - dense_7_acc_7: 0.8030 - dense_7_acc_8: 0.0350 - dense_7_acc_9: 0.013 - ETA: 3:04 - loss: 22.3059 - dense_7_loss: 2.8297 - dense_7_acc: 0.0000e+00 - dense_7_acc_1: 0.0000e+00 - dense_7_acc_2: 0.0000e+00 - dense_7_acc_3: 0.0127 - dense_7_acc_4: 0.8927 - dense_7_acc_5: 0.0400 - dense_7_acc_6: 0.0091 - dense_7_acc_7: 0.8209 - dense_7_acc_8: 0.0318 - dense_7_acc_9: 0.011 - ETA: 2:48 - loss: 22.2372 - dense_7_loss: 2.8248 - dense_7_acc: 0.0000e+00 - dense_7_acc_1: 0.0000e+00 - dense_7_acc_2: 0.0000e+00 - dense_7_acc_3: 0.0117 - dense_7_acc_4: 0.9017 - dense_7_acc_5: 0.0367 - dense_7_acc_6: 0.0083 - dense_7_acc_7: 0.8358 - dense_7_acc_8: 0.0292 - dense_7_acc_9: 0.010 - ETA: 2:35 - loss: 22.1636 - dense_7_loss: 2.8196 - dense_7_acc: 0.0000e+00 - dense_7_acc_1: 0.0000e+00 - dense_7_acc_2: 0.0000e+00 - dense_7_acc_3: 0.0108 - dense_7_acc_4: 0.9092 - dense_7_acc_5: 0.0338 - dense_7_acc_6: 0.0077 - dense_7_acc_7: 0.8485 - dense_7_acc_8: 0.0269 - dense_7_acc_9: 0.010 - ETA: 2:23 - loss: 22.0990 - dense_7_loss: 2.8278 - dense_7_acc: 0.0000e+00 - dense_7_acc_1: 0.0179 - dense_7_acc_2: 0.0000e+00 - dense_7_acc_3: 0.0100 - dense_7_acc_4: 0.9157 - dense_7_acc_5: 0.0314 - dense_7_acc_6: 0.0071 - dense_7_acc_7: 0.8593 - dense_7_acc_8: 0.0250 - dense_7_acc_9: 0.0093    - ETA: 2:13 - loss: 22.0343 - dense_7_loss: 2.8372 - dense_7_acc: 0.0000e+00 - dense_7_acc_1: 0.0433 - dense_7_acc_2: 0.0000e+00 - dense_7_acc_3: 0.0093 - dense_7_acc_4: 0.9213 - dense_7_acc_5: 0.0293 - dense_7_acc_6: 0.0067 - dense_7_acc_7: 0.8687 - dense_7_acc_8: 0.0233 - dense_7_acc_9: 0.008 - ETA: 2:04 - loss: 21.9738 - dense_7_loss: 2.8482 - dense_7_acc: 0.0000e+00 - dense_7_acc_1: 0.0631 - dense_7_acc_2: 0.0094 - dense_7_acc_3: 0.0087 - dense_7_acc_4: 0.9262 - dense_7_acc_5: 0.0275 - dense_7_acc_6: 0.0062 - dense_7_acc_7: 0.8769 - dense_7_acc_8: 0.0219 - dense_7_acc_9: 0.0081    - ETA: 1:56 - loss: 21.9082 - dense_7_loss: 2.8504 - dense_7_acc: 0.0000e+00 - dense_7_acc_1: 0.0818 - dense_7_acc_2: 0.0182 - dense_7_acc_3: 0.0082 - dense_7_acc_4: 0.9306 - dense_7_acc_5: 0.0259 - dense_7_acc_6: 0.0059 - dense_7_acc_7: 0.8841 - dense_7_acc_8: 0.0206 - dense_7_acc_9: 0.007 - ETA: 1:49 - loss: 21.8473 - dense_7_loss: 2.8610 - dense_7_acc: 0.0000e+00 - dense_7_acc_1: 0.1000 - dense_7_acc_2: 0.0294 - dense_7_acc_3: 0.0078 - dense_7_acc_4: 0.9344 - dense_7_acc_5: 0.0244 - dense_7_acc_6: 0.0056 - dense_7_acc_7: 0.8906 - dense_7_acc_8: 0.0194 - dense_7_acc_9: 0.007 - ETA: 1:43 - loss: 21.7895 - dense_7_loss: 2.8638 - dense_7_acc: 0.0000e+00 - dense_7_acc_1: 0.1258 - dense_7_acc_2: 0.0379 - dense_7_acc_3: 0.0074 - dense_7_acc_4: 0.9379 - dense_7_acc_5: 0.0232 - dense_7_acc_6: 0.0053 - dense_7_acc_7: 0.8963 - dense_7_acc_8: 0.0184 - dense_7_acc_9: 0.006 - ETA: 1:38 - loss: 21.7224 - dense_7_loss: 2.8615 - dense_7_acc: 0.0000e+00 - dense_7_acc_1: 0.1495 - dense_7_acc_2: 0.0480 - dense_7_acc_3: 0.0085 - dense_7_acc_4: 0.9410 - dense_7_acc_5: 0.0220 - dense_7_acc_6: 0.0050 - dense_7_acc_7: 0.9015 - dense_7_acc_8: 0.0175 - dense_7_acc_9: 0.006 - ETA: 1:33 - loss: 21.6551 - dense_7_loss: 2.8557 - dense_7_acc: 0.0000e+00 - dense_7_acc_1: 0.1705 - dense_7_acc_2: 0.0586 - dense_7_acc_3: 0.0114 - dense_7_acc_4: 0.9438 - dense_7_acc_5: 0.0210 - dense_7_acc_6: 0.0048 - dense_7_acc_7: 0.9062 - dense_7_acc_8: 0.0167 - dense_7_acc_9: 0.006 - ETA: 1:28 - loss: 21.5928 - dense_7_loss: 2.8509 - dense_7_acc: 0.0000e+00 - dense_7_acc_1: 0.1873 - dense_7_acc_2: 0.0768 - dense_7_acc_3: 0.0145 - dense_7_acc_4: 0.9464 - dense_7_acc_5: 0.0200 - dense_7_acc_6: 0.0045 - dense_7_acc_7: 0.9105 - dense_7_acc_8: 0.0159 - dense_7_acc_9: 0.005 - ETA: 1:24 - loss: 21.5236 - dense_7_loss: 2.8490 - dense_7_acc: 0.0000e+00 - dense_7_acc_1: 0.2096 - dense_7_acc_2: 0.0870 - dense_7_acc_3: 0.0217 - dense_7_acc_4: 0.9487 - dense_7_acc_5: 0.0191 - dense_7_acc_6: 0.0043 - dense_7_acc_7: 0.9143 - dense_7_acc_8: 0.0152 - dense_7_acc_9: 0.005 - ETA: 1:20 - loss: 21.4621 - dense_7_loss: 2.8482 - dense_7_acc: 0.0000e+00 - dense_7_acc_1: 0.2275 - dense_7_acc_2: 0.1008 - dense_7_acc_3: 0.0233 - dense_7_acc_4: 0.9508 - dense_7_acc_5: 0.0183 - dense_7_acc_6: 0.0042 - dense_7_acc_7: 0.9179 - dense_7_acc_8: 0.0146 - dense_7_acc_9: 0.005 - ETA: 1:16 - loss: 21.4039 - dense_7_loss: 2.8444 - dense_7_acc: 0.0000e+00 - dense_7_acc_1: 0.2436 - dense_7_acc_2: 0.1052 - dense_7_acc_3: 0.0252 - dense_7_acc_4: 0.9528 - dense_7_acc_5: 0.0176 - dense_7_acc_6: 0.0040 - dense_7_acc_7: 0.9212 - dense_7_acc_8: 0.0184 - dense_7_acc_9: 0.010 - ETA: 1:13 - loss: 21.3364 - dense_7_loss: 2.8375 - dense_7_acc: 0.0000e+00 - dense_7_acc_1: 0.2600 - dense_7_acc_2: 0.1104 - dense_7_acc_3: 0.0254 - dense_7_acc_4: 0.9546 - dense_7_acc_5: 0.0169 - dense_7_acc_6: 0.0038 - dense_7_acc_7: 0.9242 - dense_7_acc_8: 0.0177 - dense_7_acc_9: 0.015 - ETA: 1:09 - loss: 21.2744 - dense_7_loss: 2.8400 - dense_7_acc: 0.0000e+00 - dense_7_acc_1: 0.2719 - dense_7_acc_2: 0.1156 - dense_7_acc_3: 0.0244 - dense_7_acc_4: 0.9563 - dense_7_acc_5: 0.0163 - dense_7_acc_6: 0.0037 - dense_7_acc_7: 0.9270 - dense_7_acc_8: 0.0181 - dense_7_acc_9: 0.017 - ETA: 1:06 - loss: 21.2147 - dense_7_loss: 2.8397 - dense_7_acc: 0.0000e+00 - dense_7_acc_1: 0.2825 - dense_7_acc_2: 0.1189 - dense_7_acc_3: 0.0236 - dense_7_acc_4: 0.9579 - dense_7_acc_5: 0.0157 - dense_7_acc_6: 0.0036 - dense_7_acc_7: 0.9296 - dense_7_acc_8: 0.0207 - dense_7_acc_9: 0.0225\b\b\b\b\b\b\b\b\b\b\b\b\b\b\b\b\b\b\b\b\b\b\b\b\b\b\b\b\b\b\b\b\b\b\b\b\b\b\b\b\b\b\b\b\b\b\b\b\b\b\b\b\b\b\b\b\b\b\b\b\b\b\b\b\b\b\b\b\b\b\b\b\b\b\b\b\b\b\b\b\b\b\b\b\b\b\b\b\b\b\b\b\b\b\b\b\b\b\b\b\b\b\b\b\b\b\b\b\b\b\b\b\b\b\b\b\b\b\b\b\b\b\b\b\b\b\b\b\b\b\b\b\b\b\b\b\b\b\b\b\b\b\b\b\b\b\b\b\b\b\b\b\b\b\b\b\b\b\b\b\b\b\b\b\b\b\b\b\b\b\b\b\b\b\b\b\b\b\b\b\b\b\b\b\b\b\b\b\b\b\b\b\b\b\b\b\b\b\b\b\b\b\b\b\b\b\b\b\b\b\b\b\b\b\b\b\b\b\b\b\b\b\b\b\b\b\b\b\b\b\b\b\b\b\b\b\b\b\b\b\b\b\b\b\b\b\b\b\b\b\b\b\b\b\b\b\b\b\b\b\b\b\b\b\b\b\b\b\b\b\b\b\b\b\b\b\b\b\b\b\b\b\b\b\b\b\b\b\b\b\b\b\b\b\b\b\b\b\b\b\b\b\b\b\b\b\b\b\b\b\b\b\b\b\b\b\b\b\b\b\b\b\b\b\b\b\b\b\b\b\b\b\b\b\b\b\b"
     ]
    },
    {
     "name": "stdout",
     "output_type": "stream",
     "text": [
      " 5700/10000 [================>.............] - ETA: 1:04 - loss: 21.1691 - dense_7_loss: 2.8392 - dense_7_acc: 0.0000e+00 - dense_7_acc_1: 0.2938 - dense_7_acc_2: 0.1203 - dense_7_acc_3: 0.0255 - dense_7_acc_4: 0.9593 - dense_7_acc_5: 0.0152 - dense_7_acc_6: 0.0045 - dense_7_acc_7: 0.8976 - dense_7_acc_8: 0.0293 - dense_7_acc_9: 0.026 - ETA: 1:01 - loss: 21.1099 - dense_7_loss: 2.8407 - dense_7_acc: 0.0000e+00 - dense_7_acc_1: 0.3040 - dense_7_acc_2: 0.1263 - dense_7_acc_3: 0.0273 - dense_7_acc_4: 0.9607 - dense_7_acc_5: 0.0147 - dense_7_acc_6: 0.0043 - dense_7_acc_7: 0.8887 - dense_7_acc_8: 0.0353 - dense_7_acc_9: 0.028 - ETA: 59s - loss: 21.0521 - dense_7_loss: 2.8400 - dense_7_acc: 0.0000e+00 - dense_7_acc_1: 0.3155 - dense_7_acc_2: 0.1329 - dense_7_acc_3: 0.0303 - dense_7_acc_4: 0.9619 - dense_7_acc_5: 0.0142 - dense_7_acc_6: 0.0042 - dense_7_acc_7: 0.8923 - dense_7_acc_8: 0.0342 - dense_7_acc_9: 0.027 - ETA: 56s - loss: 20.9963 - dense_7_loss: 2.8398 - dense_7_acc: 0.0000e+00 - dense_7_acc_1: 0.3256 - dense_7_acc_2: 0.1381 - dense_7_acc_3: 0.0297 - dense_7_acc_4: 0.9631 - dense_7_acc_5: 0.0137 - dense_7_acc_6: 0.0041 - dense_7_acc_7: 0.8956 - dense_7_acc_8: 0.0350 - dense_7_acc_9: 0.02 - ETA: 54s - loss: 20.9419 - dense_7_loss: 2.8348 - dense_7_acc: 0.0000e+00 - dense_7_acc_1: 0.3327 - dense_7_acc_2: 0.1415 - dense_7_acc_3: 0.0288 - dense_7_acc_4: 0.9642 - dense_7_acc_5: 0.0133 - dense_7_acc_6: 0.0039 - dense_7_acc_7: 0.8833 - dense_7_acc_8: 0.0433 - dense_7_acc_9: 0.03 - ETA: 52s - loss: 20.8902 - dense_7_loss: 2.8328 - dense_7_acc: 0.0000e+00 - dense_7_acc_1: 0.3388 - dense_7_acc_2: 0.1468 - dense_7_acc_3: 0.0279 - dense_7_acc_4: 0.9653 - dense_7_acc_5: 0.0129 - dense_7_acc_6: 0.0038 - dense_7_acc_7: 0.8824 - dense_7_acc_8: 0.0526 - dense_7_acc_9: 0.03 - ETA: 50s - loss: 20.8428 - dense_7_loss: 2.8323 - dense_7_acc: 0.0000e+00 - dense_7_acc_1: 0.3451 - dense_7_acc_2: 0.1494 - dense_7_acc_3: 0.0303 - dense_7_acc_4: 0.9663 - dense_7_acc_5: 0.0126 - dense_7_acc_6: 0.0037 - dense_7_acc_7: 0.8857 - dense_7_acc_8: 0.0517 - dense_7_acc_9: 0.03 - ETA: 48s - loss: 20.7862 - dense_7_loss: 2.8283 - dense_7_acc: 0.0158 - dense_7_acc_1: 0.3514 - dense_7_acc_2: 0.1553 - dense_7_acc_3: 0.0317 - dense_7_acc_4: 0.9672 - dense_7_acc_5: 0.0122 - dense_7_acc_6: 0.0039 - dense_7_acc_7: 0.8850 - dense_7_acc_8: 0.0547 - dense_7_acc_9: 0.0383   - ETA: 46s - loss: 20.7318 - dense_7_loss: 2.8311 - dense_7_acc: 0.0349 - dense_7_acc_1: 0.3619 - dense_7_acc_2: 0.1551 - dense_7_acc_3: 0.0330 - dense_7_acc_4: 0.9681 - dense_7_acc_5: 0.0119 - dense_7_acc_6: 0.0038 - dense_7_acc_7: 0.8859 - dense_7_acc_8: 0.0584 - dense_7_acc_9: 0.03 - ETA: 44s - loss: 20.6784 - dense_7_loss: 2.8339 - dense_7_acc: 0.0489 - dense_7_acc_1: 0.3679 - dense_7_acc_2: 0.1600 - dense_7_acc_3: 0.0321 - dense_7_acc_4: 0.9689 - dense_7_acc_5: 0.0116 - dense_7_acc_6: 0.0037 - dense_7_acc_7: 0.8889 - dense_7_acc_8: 0.0605 - dense_7_acc_9: 0.04 - ETA: 43s - loss: 20.6226 - dense_7_loss: 2.8346 - dense_7_acc: 0.0618 - dense_7_acc_1: 0.3728 - dense_7_acc_2: 0.1664 - dense_7_acc_3: 0.0313 - dense_7_acc_4: 0.9697 - dense_7_acc_5: 0.0113 - dense_7_acc_6: 0.0036 - dense_7_acc_7: 0.8918 - dense_7_acc_8: 0.0615 - dense_7_acc_9: 0.04 - ETA: 41s - loss: 20.5607 - dense_7_loss: 2.8324 - dense_7_acc: 0.0760 - dense_7_acc_1: 0.3805 - dense_7_acc_2: 0.1718 - dense_7_acc_3: 0.0332 - dense_7_acc_4: 0.9705 - dense_7_acc_5: 0.0110 - dense_7_acc_6: 0.0035 - dense_7_acc_7: 0.8930 - dense_7_acc_8: 0.0638 - dense_7_acc_9: 0.04 - ETA: 40s - loss: 20.4984 - dense_7_loss: 2.8290 - dense_7_acc: 0.0890 - dense_7_acc_1: 0.3900 - dense_7_acc_2: 0.1761 - dense_7_acc_3: 0.0356 - dense_7_acc_4: 0.9663 - dense_7_acc_5: 0.0180 - dense_7_acc_6: 0.0044 - dense_7_acc_7: 0.8798 - dense_7_acc_8: 0.0702 - dense_7_acc_9: 0.05 - ETA: 38s - loss: 20.4405 - dense_7_loss: 2.8248 - dense_7_acc: 0.1017 - dense_7_acc_1: 0.3990 - dense_7_acc_2: 0.1807 - dense_7_acc_3: 0.0357 - dense_7_acc_4: 0.9662 - dense_7_acc_5: 0.0198 - dense_7_acc_6: 0.0050 - dense_7_acc_7: 0.8731 - dense_7_acc_8: 0.0762 - dense_7_acc_9: 0.05 - ETA: 37s - loss: 20.3820 - dense_7_loss: 2.8226 - dense_7_acc: 0.1135 - dense_7_acc_1: 0.4067 - dense_7_acc_2: 0.1851 - dense_7_acc_3: 0.0349 - dense_7_acc_4: 0.9670 - dense_7_acc_5: 0.0195 - dense_7_acc_6: 0.0049 - dense_7_acc_7: 0.8700 - dense_7_acc_8: 0.0826 - dense_7_acc_9: 0.05 - ETA: 35s - loss: 20.3191 - dense_7_loss: 2.8206 - dense_7_acc: 0.1264 - dense_7_acc_1: 0.4148 - dense_7_acc_2: 0.1884 - dense_7_acc_3: 0.0341 - dense_7_acc_4: 0.9677 - dense_7_acc_5: 0.0195 - dense_7_acc_6: 0.0048 - dense_7_acc_7: 0.8698 - dense_7_acc_8: 0.0875 - dense_7_acc_9: 0.05 - ETA: 34s - loss: 20.2599 - dense_7_loss: 2.8183 - dense_7_acc: 0.1380 - dense_7_acc_1: 0.4253 - dense_7_acc_2: 0.1936 - dense_7_acc_3: 0.0336 - dense_7_acc_4: 0.9684 - dense_7_acc_5: 0.0204 - dense_7_acc_6: 0.0053 - dense_7_acc_7: 0.8656 - dense_7_acc_8: 0.0916 - dense_7_acc_9: 0.05 - ETA: 33s - loss: 20.1991 - dense_7_loss: 2.8163 - dense_7_acc: 0.1483 - dense_7_acc_1: 0.4357 - dense_7_acc_2: 0.1983 - dense_7_acc_3: 0.0333 - dense_7_acc_4: 0.9691 - dense_7_acc_5: 0.0211 - dense_7_acc_6: 0.0052 - dense_7_acc_7: 0.8643 - dense_7_acc_8: 0.0935 - dense_7_acc_9: 0.06 - ETA: 32s - loss: 20.1393 - dense_7_loss: 2.8174 - dense_7_acc: 0.1579 - dense_7_acc_1: 0.4438 - dense_7_acc_2: 0.2021 - dense_7_acc_3: 0.0336 - dense_7_acc_4: 0.9698 - dense_7_acc_5: 0.0211 - dense_7_acc_6: 0.0051 - dense_7_acc_7: 0.8643 - dense_7_acc_8: 0.0947 - dense_7_acc_9: 0.06 - ETA: 31s - loss: 20.0818 - dense_7_loss: 2.8198 - dense_7_acc: 0.1669 - dense_7_acc_1: 0.4546 - dense_7_acc_2: 0.2058 - dense_7_acc_3: 0.0337 - dense_7_acc_4: 0.9685 - dense_7_acc_5: 0.0258 - dense_7_acc_6: 0.0052 - dense_7_acc_7: 0.8552 - dense_7_acc_8: 0.1004 - dense_7_acc_9: 0.06 - ETA: 30s - loss: 20.0131 - dense_7_loss: 2.8187 - dense_7_acc: 0.1778 - dense_7_acc_1: 0.4647 - dense_7_acc_2: 0.2104 - dense_7_acc_3: 0.0376 - dense_7_acc_4: 0.9667 - dense_7_acc_5: 0.0276 - dense_7_acc_6: 0.0063 - dense_7_acc_7: 0.8502 - dense_7_acc_8: 0.1008 - dense_7_acc_9: 0.06 - ETA: 29s - loss: 19.9553 - dense_7_loss: 2.8154 - dense_7_acc: 0.1866 - dense_7_acc_1: 0.4716 - dense_7_acc_2: 0.2122 - dense_7_acc_3: 0.0390 - dense_7_acc_4: 0.9662 - dense_7_acc_5: 0.0294 - dense_7_acc_6: 0.0064 - dense_7_acc_7: 0.8476 - dense_7_acc_8: 0.1028 - dense_7_acc_9: 0.06 - ETA: 28s - loss: 19.8932 - dense_7_loss: 2.8125 - dense_7_acc: 0.1953 - dense_7_acc_1: 0.4810 - dense_7_acc_2: 0.2155 - dense_7_acc_3: 0.0388 - dense_7_acc_4: 0.9659 - dense_7_acc_5: 0.0314 - dense_7_acc_6: 0.0069 - dense_7_acc_7: 0.8431 - dense_7_acc_8: 0.1088 - dense_7_acc_9: 0.06 - ETA: 27s - loss: 19.8308 - dense_7_loss: 2.8074 - dense_7_acc: 0.2037 - dense_7_acc_1: 0.4900 - dense_7_acc_2: 0.2183 - dense_7_acc_3: 0.0383 - dense_7_acc_4: 0.9665 - dense_7_acc_5: 0.0310 - dense_7_acc_6: 0.0067 - dense_7_acc_7: 0.8417 - dense_7_acc_8: 0.1115 - dense_7_acc_9: 0.06 - ETA: 26s - loss: 19.7776 - dense_7_loss: 2.8073 - dense_7_acc: 0.2104 - dense_7_acc_1: 0.4977 - dense_7_acc_2: 0.2223 - dense_7_acc_3: 0.0387 - dense_7_acc_4: 0.9672 - dense_7_acc_5: 0.0304 - dense_7_acc_6: 0.0066 - dense_7_acc_7: 0.8445 - dense_7_acc_8: 0.1106 - dense_7_acc_9: 0.06 - ETA: 25s - loss: 19.7194 - dense_7_loss: 2.8027 - dense_7_acc: 0.2181 - dense_7_acc_1: 0.5063 - dense_7_acc_2: 0.2243 - dense_7_acc_3: 0.0394 - dense_7_acc_4: 0.9678 - dense_7_acc_5: 0.0304 - dense_7_acc_6: 0.0065 - dense_7_acc_7: 0.8470 - dense_7_acc_8: 0.1109 - dense_7_acc_9: 0.06 - ETA: 24s - loss: 19.6617 - dense_7_loss: 2.7980 - dense_7_acc: 0.2251 - dense_7_acc_1: 0.5144 - dense_7_acc_2: 0.2278 - dense_7_acc_3: 0.0395 - dense_7_acc_4: 0.9684 - dense_7_acc_5: 0.0333 - dense_7_acc_6: 0.0065 - dense_7_acc_7: 0.8455 - dense_7_acc_8: 0.1145 - dense_7_acc_9: 0.07 - ETA: 23s - loss: 19.6017 - dense_7_loss: 2.7958 - dense_7_acc: 0.2314 - dense_7_acc_1: 0.5216 - dense_7_acc_2: 0.2305 - dense_7_acc_3: 0.0395 - dense_7_acc_4: 0.9689 - dense_7_acc_5: 0.0382 - dense_7_acc_6: 0.0066 - dense_7_acc_7: 0.8475 - dense_7_acc_8: 0.1171 - dense_7_acc_9: 0.07 - ETA: 22s - loss: 19.5381 - dense_7_loss: 2.7953 - dense_7_acc: 0.2386 - dense_7_acc_1: 0.5277 - dense_7_acc_2: 0.2337 - dense_7_acc_3: 0.0402 - dense_7_acc_4: 0.9695 - dense_7_acc_5: 0.0402 - dense_7_acc_6: 0.0065 - dense_7_acc_7: 0.8502 - dense_7_acc_8: 0.1167 - dense_7_acc_9: 0.0704"
     ]
    },
    {
     "name": "stdout",
     "output_type": "stream",
     "text": [
      " 8600/10000 [========================>.....] - ETA: 21s - loss: 19.4730 - dense_7_loss: 2.7931 - dense_7_acc: 0.2455 - dense_7_acc_1: 0.5350 - dense_7_acc_2: 0.2360 - dense_7_acc_3: 0.0402 - dense_7_acc_4: 0.9700 - dense_7_acc_5: 0.0512 - dense_7_acc_6: 0.0064 - dense_7_acc_7: 0.8528 - dense_7_acc_8: 0.1178 - dense_7_acc_9: 0.07 - ETA: 21s - loss: 19.4054 - dense_7_loss: 2.7916 - dense_7_acc: 0.2520 - dense_7_acc_1: 0.5419 - dense_7_acc_2: 0.2400 - dense_7_acc_3: 0.0400 - dense_7_acc_4: 0.9705 - dense_7_acc_5: 0.0653 - dense_7_acc_6: 0.0069 - dense_7_acc_7: 0.8549 - dense_7_acc_8: 0.1212 - dense_7_acc_9: 0.07 - ETA: 20s - loss: 19.3331 - dense_7_loss: 2.7871 - dense_7_acc: 0.2575 - dense_7_acc_1: 0.5488 - dense_7_acc_2: 0.2415 - dense_7_acc_3: 0.0405 - dense_7_acc_4: 0.9710 - dense_7_acc_5: 0.0780 - dense_7_acc_6: 0.0080 - dense_7_acc_7: 0.8573 - dense_7_acc_8: 0.1250 - dense_7_acc_9: 0.07 - ETA: 19s - loss: 19.2639 - dense_7_loss: 2.7860 - dense_7_acc: 0.2621 - dense_7_acc_1: 0.5554 - dense_7_acc_2: 0.2426 - dense_7_acc_3: 0.0410 - dense_7_acc_4: 0.9715 - dense_7_acc_5: 0.0874 - dense_7_acc_6: 0.0085 - dense_7_acc_7: 0.8597 - dense_7_acc_8: 0.1272 - dense_7_acc_9: 0.07 - ETA: 18s - loss: 19.1889 - dense_7_loss: 2.7862 - dense_7_acc: 0.2687 - dense_7_acc_1: 0.5621 - dense_7_acc_2: 0.2452 - dense_7_acc_3: 0.0408 - dense_7_acc_4: 0.9719 - dense_7_acc_5: 0.0944 - dense_7_acc_6: 0.0092 - dense_7_acc_7: 0.8619 - dense_7_acc_8: 0.1305 - dense_7_acc_9: 0.07 - ETA: 18s - loss: 19.1099 - dense_7_loss: 2.7813 - dense_7_acc: 0.2751 - dense_7_acc_1: 0.5687 - dense_7_acc_2: 0.2487 - dense_7_acc_3: 0.0402 - dense_7_acc_4: 0.9724 - dense_7_acc_5: 0.1065 - dense_7_acc_6: 0.0094 - dense_7_acc_7: 0.8641 - dense_7_acc_8: 0.1351 - dense_7_acc_9: 0.07 - ETA: 17s - loss: 19.0324 - dense_7_loss: 2.7756 - dense_7_acc: 0.2806 - dense_7_acc_1: 0.5742 - dense_7_acc_2: 0.2503 - dense_7_acc_3: 0.0405 - dense_7_acc_4: 0.9728 - dense_7_acc_5: 0.1183 - dense_7_acc_6: 0.0106 - dense_7_acc_7: 0.8663 - dense_7_acc_8: 0.1383 - dense_7_acc_9: 0.07 - ETA: 16s - loss: 18.9516 - dense_7_loss: 2.7710 - dense_7_acc: 0.2869 - dense_7_acc_1: 0.5800 - dense_7_acc_2: 0.2531 - dense_7_acc_3: 0.0411 - dense_7_acc_4: 0.9732 - dense_7_acc_5: 0.1277 - dense_7_acc_6: 0.0125 - dense_7_acc_7: 0.8683 - dense_7_acc_8: 0.1425 - dense_7_acc_9: 0.07 - ETA: 16s - loss: 18.8634 - dense_7_loss: 2.7664 - dense_7_acc: 0.2935 - dense_7_acc_1: 0.5859 - dense_7_acc_2: 0.2550 - dense_7_acc_3: 0.0417 - dense_7_acc_4: 0.9736 - dense_7_acc_5: 0.1388 - dense_7_acc_6: 0.0133 - dense_7_acc_7: 0.8703 - dense_7_acc_8: 0.1470 - dense_7_acc_9: 0.07 - ETA: 15s - loss: 18.7827 - dense_7_loss: 2.7628 - dense_7_acc: 0.2988 - dense_7_acc_1: 0.5910 - dense_7_acc_2: 0.2575 - dense_7_acc_3: 0.0415 - dense_7_acc_4: 0.9740 - dense_7_acc_5: 0.1488 - dense_7_acc_6: 0.0137 - dense_7_acc_7: 0.8722 - dense_7_acc_8: 0.1503 - dense_7_acc_9: 0.07 - ETA: 15s - loss: 18.7007 - dense_7_loss: 2.7588 - dense_7_acc: 0.3069 - dense_7_acc_1: 0.5953 - dense_7_acc_2: 0.2591 - dense_7_acc_3: 0.0416 - dense_7_acc_4: 0.9744 - dense_7_acc_5: 0.1584 - dense_7_acc_6: 0.0140 - dense_7_acc_7: 0.8741 - dense_7_acc_8: 0.1541 - dense_7_acc_9: 0.07 - ETA: 14s - loss: 18.6161 - dense_7_loss: 2.7532 - dense_7_acc: 0.3128 - dense_7_acc_1: 0.6003 - dense_7_acc_2: 0.2614 - dense_7_acc_3: 0.0426 - dense_7_acc_4: 0.9748 - dense_7_acc_5: 0.1674 - dense_7_acc_6: 0.0158 - dense_7_acc_7: 0.8759 - dense_7_acc_8: 0.1555 - dense_7_acc_9: 0.07 - ETA: 13s - loss: 18.5353 - dense_7_loss: 2.7470 - dense_7_acc: 0.3169 - dense_7_acc_1: 0.6033 - dense_7_acc_2: 0.2629 - dense_7_acc_3: 0.0436 - dense_7_acc_4: 0.9751 - dense_7_acc_5: 0.1763 - dense_7_acc_6: 0.0164 - dense_7_acc_7: 0.8777 - dense_7_acc_8: 0.1584 - dense_7_acc_9: 0.07 - ETA: 13s - loss: 18.4473 - dense_7_loss: 2.7412 - dense_7_acc: 0.3218 - dense_7_acc_1: 0.6087 - dense_7_acc_2: 0.2641 - dense_7_acc_3: 0.0445 - dense_7_acc_4: 0.9755 - dense_7_acc_5: 0.1837 - dense_7_acc_6: 0.0179 - dense_7_acc_7: 0.8794 - dense_7_acc_8: 0.1611 - dense_7_acc_9: 0.07 - ETA: 12s - loss: 18.3690 - dense_7_loss: 2.7361 - dense_7_acc: 0.3276 - dense_7_acc_1: 0.6125 - dense_7_acc_2: 0.2665 - dense_7_acc_3: 0.0451 - dense_7_acc_4: 0.9758 - dense_7_acc_5: 0.1913 - dense_7_acc_6: 0.0190 - dense_7_acc_7: 0.8811 - dense_7_acc_8: 0.1649 - dense_7_acc_9: 0.07 - ETA: 12s - loss: 18.2900 - dense_7_loss: 2.7310 - dense_7_acc: 0.3334 - dense_7_acc_1: 0.6155 - dense_7_acc_2: 0.2673 - dense_7_acc_3: 0.0460 - dense_7_acc_4: 0.9762 - dense_7_acc_5: 0.1988 - dense_7_acc_6: 0.0203 - dense_7_acc_7: 0.8827 - dense_7_acc_8: 0.1671 - dense_7_acc_9: 0.08 - ETA: 11s - loss: 18.2050 - dense_7_loss: 2.7258 - dense_7_acc: 0.3370 - dense_7_acc_1: 0.6196 - dense_7_acc_2: 0.2696 - dense_7_acc_3: 0.0466 - dense_7_acc_4: 0.9765 - dense_7_acc_5: 0.2078 - dense_7_acc_6: 0.0209 - dense_7_acc_7: 0.8843 - dense_7_acc_8: 0.1700 - dense_7_acc_9: 0.08 - ETA: 10s - loss: 18.1234 - dense_7_loss: 2.7201 - dense_7_acc: 0.3408 - dense_7_acc_1: 0.6236 - dense_7_acc_2: 0.2712 - dense_7_acc_3: 0.0480 - dense_7_acc_4: 0.9768 - dense_7_acc_5: 0.2155 - dense_7_acc_6: 0.0221 - dense_7_acc_7: 0.8859 - dense_7_acc_8: 0.1729 - dense_7_acc_9: 0.08 - ETA: 10s - loss: 18.0394 - dense_7_loss: 2.7154 - dense_7_acc: 0.3450 - dense_7_acc_1: 0.6271 - dense_7_acc_2: 0.2725 - dense_7_acc_3: 0.0493 - dense_7_acc_4: 0.9771 - dense_7_acc_5: 0.2241 - dense_7_acc_6: 0.0230 - dense_7_acc_7: 0.8874 - dense_7_acc_8: 0.1764 - dense_7_acc_9: 0.08 - ETA: 9s - loss: 17.9553 - dense_7_loss: 2.7095 - dense_7_acc: 0.3497 - dense_7_acc_1: 0.6308 - dense_7_acc_2: 0.2745 - dense_7_acc_3: 0.0497 - dense_7_acc_4: 0.9774 - dense_7_acc_5: 0.2314 - dense_7_acc_6: 0.0244 - dense_7_acc_7: 0.8888 - dense_7_acc_8: 0.1784 - dense_7_acc_9: 0.0840 - ETA: 9s - loss: 17.8714 - dense_7_loss: 2.7048 - dense_7_acc: 0.3558 - dense_7_acc_1: 0.6345 - dense_7_acc_2: 0.2768 - dense_7_acc_3: 0.0514 - dense_7_acc_4: 0.9777 - dense_7_acc_5: 0.2382 - dense_7_acc_6: 0.0256 - dense_7_acc_7: 0.8903 - dense_7_acc_8: 0.1818 - dense_7_acc_9: 0.084 - ETA: 8s - loss: 17.7911 - dense_7_loss: 2.7013 - dense_7_acc: 0.3625 - dense_7_acc_1: 0.6382 - dense_7_acc_2: 0.2781 - dense_7_acc_3: 0.0520 - dense_7_acc_4: 0.9780 - dense_7_acc_5: 0.2448 - dense_7_acc_6: 0.0272 - dense_7_acc_7: 0.8916 - dense_7_acc_8: 0.1848 - dense_7_acc_9: 0.084 - ETA: 8s - loss: 17.7076 - dense_7_loss: 2.6972 - dense_7_acc: 0.3693 - dense_7_acc_1: 0.6416 - dense_7_acc_2: 0.2805 - dense_7_acc_3: 0.0544 - dense_7_acc_4: 0.9782 - dense_7_acc_5: 0.2508 - dense_7_acc_6: 0.0290 - dense_7_acc_7: 0.8930 - dense_7_acc_8: 0.1884 - dense_7_acc_9: 0.085 - ETA: 7s - loss: 17.6293 - dense_7_loss: 2.6927 - dense_7_acc: 0.3754 - dense_7_acc_1: 0.6449 - dense_7_acc_2: 0.2828 - dense_7_acc_3: 0.0556 - dense_7_acc_4: 0.9785 - dense_7_acc_5: 0.2562 - dense_7_acc_6: 0.0307 - dense_7_acc_7: 0.8943 - dense_7_acc_8: 0.1914 - dense_7_acc_9: 0.086 - ETA: 7s - loss: 17.5497 - dense_7_loss: 2.6869 - dense_7_acc: 0.3806 - dense_7_acc_1: 0.6478 - dense_7_acc_2: 0.2854 - dense_7_acc_3: 0.0570 - dense_7_acc_4: 0.9788 - dense_7_acc_5: 0.2629 - dense_7_acc_6: 0.0332 - dense_7_acc_7: 0.8956 - dense_7_acc_8: 0.1939 - dense_7_acc_9: 0.087 - ETA: 6s - loss: 17.4756 - dense_7_loss: 2.6825 - dense_7_acc: 0.3860 - dense_7_acc_1: 0.6510 - dense_7_acc_2: 0.2880 - dense_7_acc_3: 0.0576 - dense_7_acc_4: 0.9790 - dense_7_acc_5: 0.2690 - dense_7_acc_6: 0.0359 - dense_7_acc_7: 0.8969 - dense_7_acc_8: 0.1959 - dense_7_acc_9: 0.088 - ETA: 6s - loss: 17.3962 - dense_7_loss: 2.6783 - dense_7_acc: 0.3921 - dense_7_acc_1: 0.6546 - dense_7_acc_2: 0.2910 - dense_7_acc_3: 0.0588 - dense_7_acc_4: 0.9793 - dense_7_acc_5: 0.2744 - dense_7_acc_6: 0.0379 - dense_7_acc_7: 0.8981 - dense_7_acc_8: 0.1981 - dense_7_acc_9: 0.089 - ETA: 6s - loss: 17.3175 - dense_7_loss: 2.6744 - dense_7_acc: 0.3982 - dense_7_acc_1: 0.6581 - dense_7_acc_2: 0.2929 - dense_7_acc_3: 0.0595 - dense_7_acc_4: 0.9795 - dense_7_acc_5: 0.2807 - dense_7_acc_6: 0.0386 - dense_7_acc_7: 0.8993 - dense_7_acc_8: 0.2008 - dense_7_acc_9: 0.089 - ETA: 5s - loss: 17.2411 - dense_7_loss: 2.6693 - dense_7_acc: 0.4047 - dense_7_acc_1: 0.6610 - dense_7_acc_2: 0.2942 - dense_7_acc_3: 0.0603 - dense_7_acc_4: 0.9798 - dense_7_acc_5: 0.2867 - dense_7_acc_6: 0.0398 - dense_7_acc_7: 0.9005 - dense_7_acc_8: 0.2034 - dense_7_acc_9: 0.0901"
     ]
    },
    {
     "name": "stdout",
     "output_type": "stream",
     "text": [
      "10000/10000 [==============================] - ETA: 5s - loss: 17.1636 - dense_7_loss: 2.6641 - dense_7_acc: 0.4108 - dense_7_acc_1: 0.6643 - dense_7_acc_2: 0.2960 - dense_7_acc_3: 0.0614 - dense_7_acc_4: 0.9800 - dense_7_acc_5: 0.2930 - dense_7_acc_6: 0.0415 - dense_7_acc_7: 0.9016 - dense_7_acc_8: 0.2056 - dense_7_acc_9: 0.090 - ETA: 4s - loss: 17.0900 - dense_7_loss: 2.6604 - dense_7_acc: 0.4167 - dense_7_acc_1: 0.6674 - dense_7_acc_2: 0.2983 - dense_7_acc_3: 0.0615 - dense_7_acc_4: 0.9802 - dense_7_acc_5: 0.2980 - dense_7_acc_6: 0.0439 - dense_7_acc_7: 0.9027 - dense_7_acc_8: 0.2070 - dense_7_acc_9: 0.091 - ETA: 4s - loss: 17.0145 - dense_7_loss: 2.6555 - dense_7_acc: 0.4219 - dense_7_acc_1: 0.6704 - dense_7_acc_2: 0.3010 - dense_7_acc_3: 0.0617 - dense_7_acc_4: 0.9804 - dense_7_acc_5: 0.3043 - dense_7_acc_6: 0.0465 - dense_7_acc_7: 0.9038 - dense_7_acc_8: 0.2083 - dense_7_acc_9: 0.092 - ETA: 3s - loss: 16.9410 - dense_7_loss: 2.6518 - dense_7_acc: 0.4278 - dense_7_acc_1: 0.6738 - dense_7_acc_2: 0.3032 - dense_7_acc_3: 0.0628 - dense_7_acc_4: 0.9807 - dense_7_acc_5: 0.3098 - dense_7_acc_6: 0.0483 - dense_7_acc_7: 0.9049 - dense_7_acc_8: 0.2101 - dense_7_acc_9: 0.092 - ETA: 3s - loss: 16.8694 - dense_7_loss: 2.6482 - dense_7_acc: 0.4331 - dense_7_acc_1: 0.6770 - dense_7_acc_2: 0.3059 - dense_7_acc_3: 0.0629 - dense_7_acc_4: 0.9809 - dense_7_acc_5: 0.3160 - dense_7_acc_6: 0.0500 - dense_7_acc_7: 0.9059 - dense_7_acc_8: 0.2115 - dense_7_acc_9: 0.093 - ETA: 3s - loss: 16.8025 - dense_7_loss: 2.6447 - dense_7_acc: 0.4385 - dense_7_acc_1: 0.6800 - dense_7_acc_2: 0.3078 - dense_7_acc_3: 0.0632 - dense_7_acc_4: 0.9811 - dense_7_acc_5: 0.3212 - dense_7_acc_6: 0.0514 - dense_7_acc_7: 0.9070 - dense_7_acc_8: 0.2129 - dense_7_acc_9: 0.093 - ETA: 2s - loss: 16.7315 - dense_7_loss: 2.6402 - dense_7_acc: 0.4440 - dense_7_acc_1: 0.6830 - dense_7_acc_2: 0.3099 - dense_7_acc_3: 0.0641 - dense_7_acc_4: 0.9813 - dense_7_acc_5: 0.3269 - dense_7_acc_6: 0.0533 - dense_7_acc_7: 0.9080 - dense_7_acc_8: 0.2145 - dense_7_acc_9: 0.094 - ETA: 2s - loss: 16.6634 - dense_7_loss: 2.6355 - dense_7_acc: 0.4493 - dense_7_acc_1: 0.6859 - dense_7_acc_2: 0.3112 - dense_7_acc_3: 0.0647 - dense_7_acc_4: 0.9815 - dense_7_acc_5: 0.3320 - dense_7_acc_6: 0.0557 - dense_7_acc_7: 0.9089 - dense_7_acc_8: 0.2163 - dense_7_acc_9: 0.095 - ETA: 1s - loss: 16.5965 - dense_7_loss: 2.6315 - dense_7_acc: 0.4544 - dense_7_acc_1: 0.6887 - dense_7_acc_2: 0.3129 - dense_7_acc_3: 0.0658 - dense_7_acc_4: 0.9817 - dense_7_acc_5: 0.3377 - dense_7_acc_6: 0.0566 - dense_7_acc_7: 0.9099 - dense_7_acc_8: 0.2178 - dense_7_acc_9: 0.095 - ETA: 1s - loss: 16.5319 - dense_7_loss: 2.6277 - dense_7_acc: 0.4593 - dense_7_acc_1: 0.6910 - dense_7_acc_2: 0.3133 - dense_7_acc_3: 0.0669 - dense_7_acc_4: 0.9819 - dense_7_acc_5: 0.3429 - dense_7_acc_6: 0.0583 - dense_7_acc_7: 0.9108 - dense_7_acc_8: 0.2204 - dense_7_acc_9: 0.096 - ETA: 1s - loss: 16.4657 - dense_7_loss: 2.6239 - dense_7_acc: 0.4646 - dense_7_acc_1: 0.6936 - dense_7_acc_2: 0.3142 - dense_7_acc_3: 0.0676 - dense_7_acc_4: 0.9821 - dense_7_acc_5: 0.3485 - dense_7_acc_6: 0.0603 - dense_7_acc_7: 0.9118 - dense_7_acc_8: 0.2216 - dense_7_acc_9: 0.096 - ETA: 0s - loss: 16.4034 - dense_7_loss: 2.6206 - dense_7_acc: 0.4691 - dense_7_acc_1: 0.6962 - dense_7_acc_2: 0.3151 - dense_7_acc_3: 0.0677 - dense_7_acc_4: 0.9822 - dense_7_acc_5: 0.3529 - dense_7_acc_6: 0.0615 - dense_7_acc_7: 0.9127 - dense_7_acc_8: 0.2231 - dense_7_acc_9: 0.097 - ETA: 0s - loss: 16.3395 - dense_7_loss: 2.6166 - dense_7_acc: 0.4741 - dense_7_acc_1: 0.6990 - dense_7_acc_2: 0.3180 - dense_7_acc_3: 0.0679 - dense_7_acc_4: 0.9824 - dense_7_acc_5: 0.3577 - dense_7_acc_6: 0.0629 - dense_7_acc_7: 0.9135 - dense_7_acc_8: 0.2246 - dense_7_acc_9: 0.098 - 36s 4ms/step - loss: 16.2772 - dense_7_loss: 2.6137 - dense_7_acc: 0.4791 - dense_7_acc_1: 0.7017 - dense_7_acc_2: 0.3197 - dense_7_acc_3: 0.0683 - dense_7_acc_4: 0.9826 - dense_7_acc_5: 0.3621 - dense_7_acc_6: 0.0655 - dense_7_acc_7: 0.9144 - dense_7_acc_8: 0.2265 - dense_7_acc_9: 0.0981\n"
     ]
    },
    {
     "data": {
      "text/plain": [
       "<keras.callbacks.History at 0x1b1c2af2c18>"
      ]
     },
     "execution_count": 28,
     "metadata": {},
     "output_type": "execute_result"
    }
   ],
   "source": [
    "model.fit([Xoh, s0, c0], outputs, epochs=1, batch_size=100)"
   ]
  },
  {
   "cell_type": "markdown",
   "metadata": {},
   "source": [
    "While training you can see the loss as well as the accuracy on each of the 10 positions of the output. The table below gives you an example of what the accuracies could be if the batch had 2 examples: \n",
    "\n",
    "<img src=\"images/table.png\" style=\"width:700;height:200px;\"> <br>\n",
    "<caption><center>Thus, `dense_2_acc_8: 0.89` means that you are predicting the 7th character of the output correctly 89% of the time in the current batch of data. </center></caption>\n",
    "\n",
    "\n",
    "We have run this model for longer, and saved the weights. Run the next cell to load our weights. (By training a model for several minutes, you should be able to obtain a model of similar accuracy, but loading our model will save you time.) "
   ]
  },
  {
   "cell_type": "code",
   "execution_count": 29,
   "metadata": {},
   "outputs": [
    {
     "ename": "OSError",
     "evalue": "Unable to open file (unable to open file: name = 'models/model.h5', errno = 2, error message = 'No such file or directory', flags = 0, o_flags = 0)",
     "output_type": "error",
     "traceback": [
      "\u001b[1;31m---------------------------------------------------------------------------\u001b[0m",
      "\u001b[1;31mOSError\u001b[0m                                   Traceback (most recent call last)",
      "\u001b[1;32m<ipython-input-29-5adfa8e1d454>\u001b[0m in \u001b[0;36m<module>\u001b[1;34m()\u001b[0m\n\u001b[1;32m----> 1\u001b[1;33m \u001b[0mmodel\u001b[0m\u001b[1;33m.\u001b[0m\u001b[0mload_weights\u001b[0m\u001b[1;33m(\u001b[0m\u001b[1;34m'models/model.h5'\u001b[0m\u001b[1;33m)\u001b[0m\u001b[1;33m\u001b[0m\u001b[0m\n\u001b[0m",
      "\u001b[1;32mD:\\ruanjianbao\\pycharm\\anaconda\\lib\\site-packages\\keras\\engine\\network.py\u001b[0m in \u001b[0;36mload_weights\u001b[1;34m(self, filepath, by_name, skip_mismatch, reshape)\u001b[0m\n\u001b[0;32m   1155\u001b[0m         \u001b[1;32mif\u001b[0m \u001b[0mh5py\u001b[0m \u001b[1;32mis\u001b[0m \u001b[1;32mNone\u001b[0m\u001b[1;33m:\u001b[0m\u001b[1;33m\u001b[0m\u001b[0m\n\u001b[0;32m   1156\u001b[0m             \u001b[1;32mraise\u001b[0m \u001b[0mImportError\u001b[0m\u001b[1;33m(\u001b[0m\u001b[1;34m'`load_weights` requires h5py.'\u001b[0m\u001b[1;33m)\u001b[0m\u001b[1;33m\u001b[0m\u001b[0m\n\u001b[1;32m-> 1157\u001b[1;33m         \u001b[1;32mwith\u001b[0m \u001b[0mh5py\u001b[0m\u001b[1;33m.\u001b[0m\u001b[0mFile\u001b[0m\u001b[1;33m(\u001b[0m\u001b[0mfilepath\u001b[0m\u001b[1;33m,\u001b[0m \u001b[0mmode\u001b[0m\u001b[1;33m=\u001b[0m\u001b[1;34m'r'\u001b[0m\u001b[1;33m)\u001b[0m \u001b[1;32mas\u001b[0m \u001b[0mf\u001b[0m\u001b[1;33m:\u001b[0m\u001b[1;33m\u001b[0m\u001b[0m\n\u001b[0m\u001b[0;32m   1158\u001b[0m             \u001b[1;32mif\u001b[0m \u001b[1;34m'layer_names'\u001b[0m \u001b[1;32mnot\u001b[0m \u001b[1;32min\u001b[0m \u001b[0mf\u001b[0m\u001b[1;33m.\u001b[0m\u001b[0mattrs\u001b[0m \u001b[1;32mand\u001b[0m \u001b[1;34m'model_weights'\u001b[0m \u001b[1;32min\u001b[0m \u001b[0mf\u001b[0m\u001b[1;33m:\u001b[0m\u001b[1;33m\u001b[0m\u001b[0m\n\u001b[0;32m   1159\u001b[0m                 \u001b[0mf\u001b[0m \u001b[1;33m=\u001b[0m \u001b[0mf\u001b[0m\u001b[1;33m[\u001b[0m\u001b[1;34m'model_weights'\u001b[0m\u001b[1;33m]\u001b[0m\u001b[1;33m\u001b[0m\u001b[0m\n",
      "\u001b[1;32mD:\\ruanjianbao\\pycharm\\anaconda\\lib\\site-packages\\h5py\\_hl\\files.py\u001b[0m in \u001b[0;36m__init__\u001b[1;34m(self, name, mode, driver, libver, userblock_size, swmr, **kwds)\u001b[0m\n\u001b[0;32m    267\u001b[0m             \u001b[1;32mwith\u001b[0m \u001b[0mphil\u001b[0m\u001b[1;33m:\u001b[0m\u001b[1;33m\u001b[0m\u001b[0m\n\u001b[0;32m    268\u001b[0m                 \u001b[0mfapl\u001b[0m \u001b[1;33m=\u001b[0m \u001b[0mmake_fapl\u001b[0m\u001b[1;33m(\u001b[0m\u001b[0mdriver\u001b[0m\u001b[1;33m,\u001b[0m \u001b[0mlibver\u001b[0m\u001b[1;33m,\u001b[0m \u001b[1;33m**\u001b[0m\u001b[0mkwds\u001b[0m\u001b[1;33m)\u001b[0m\u001b[1;33m\u001b[0m\u001b[0m\n\u001b[1;32m--> 269\u001b[1;33m                 \u001b[0mfid\u001b[0m \u001b[1;33m=\u001b[0m \u001b[0mmake_fid\u001b[0m\u001b[1;33m(\u001b[0m\u001b[0mname\u001b[0m\u001b[1;33m,\u001b[0m \u001b[0mmode\u001b[0m\u001b[1;33m,\u001b[0m \u001b[0muserblock_size\u001b[0m\u001b[1;33m,\u001b[0m \u001b[0mfapl\u001b[0m\u001b[1;33m,\u001b[0m \u001b[0mswmr\u001b[0m\u001b[1;33m=\u001b[0m\u001b[0mswmr\u001b[0m\u001b[1;33m)\u001b[0m\u001b[1;33m\u001b[0m\u001b[0m\n\u001b[0m\u001b[0;32m    270\u001b[0m \u001b[1;33m\u001b[0m\u001b[0m\n\u001b[0;32m    271\u001b[0m                 \u001b[1;32mif\u001b[0m \u001b[0mswmr_support\u001b[0m\u001b[1;33m:\u001b[0m\u001b[1;33m\u001b[0m\u001b[0m\n",
      "\u001b[1;32mD:\\ruanjianbao\\pycharm\\anaconda\\lib\\site-packages\\h5py\\_hl\\files.py\u001b[0m in \u001b[0;36mmake_fid\u001b[1;34m(name, mode, userblock_size, fapl, fcpl, swmr)\u001b[0m\n\u001b[0;32m     97\u001b[0m         \u001b[1;32mif\u001b[0m \u001b[0mswmr\u001b[0m \u001b[1;32mand\u001b[0m \u001b[0mswmr_support\u001b[0m\u001b[1;33m:\u001b[0m\u001b[1;33m\u001b[0m\u001b[0m\n\u001b[0;32m     98\u001b[0m             \u001b[0mflags\u001b[0m \u001b[1;33m|=\u001b[0m \u001b[0mh5f\u001b[0m\u001b[1;33m.\u001b[0m\u001b[0mACC_SWMR_READ\u001b[0m\u001b[1;33m\u001b[0m\u001b[0m\n\u001b[1;32m---> 99\u001b[1;33m         \u001b[0mfid\u001b[0m \u001b[1;33m=\u001b[0m \u001b[0mh5f\u001b[0m\u001b[1;33m.\u001b[0m\u001b[0mopen\u001b[0m\u001b[1;33m(\u001b[0m\u001b[0mname\u001b[0m\u001b[1;33m,\u001b[0m \u001b[0mflags\u001b[0m\u001b[1;33m,\u001b[0m \u001b[0mfapl\u001b[0m\u001b[1;33m=\u001b[0m\u001b[0mfapl\u001b[0m\u001b[1;33m)\u001b[0m\u001b[1;33m\u001b[0m\u001b[0m\n\u001b[0m\u001b[0;32m    100\u001b[0m     \u001b[1;32melif\u001b[0m \u001b[0mmode\u001b[0m \u001b[1;33m==\u001b[0m \u001b[1;34m'r+'\u001b[0m\u001b[1;33m:\u001b[0m\u001b[1;33m\u001b[0m\u001b[0m\n\u001b[0;32m    101\u001b[0m         \u001b[0mfid\u001b[0m \u001b[1;33m=\u001b[0m \u001b[0mh5f\u001b[0m\u001b[1;33m.\u001b[0m\u001b[0mopen\u001b[0m\u001b[1;33m(\u001b[0m\u001b[0mname\u001b[0m\u001b[1;33m,\u001b[0m \u001b[0mh5f\u001b[0m\u001b[1;33m.\u001b[0m\u001b[0mACC_RDWR\u001b[0m\u001b[1;33m,\u001b[0m \u001b[0mfapl\u001b[0m\u001b[1;33m=\u001b[0m\u001b[0mfapl\u001b[0m\u001b[1;33m)\u001b[0m\u001b[1;33m\u001b[0m\u001b[0m\n",
      "\u001b[1;32mh5py\\_objects.pyx\u001b[0m in \u001b[0;36mh5py._objects.with_phil.wrapper\u001b[1;34m()\u001b[0m\n",
      "\u001b[1;32mh5py\\_objects.pyx\u001b[0m in \u001b[0;36mh5py._objects.with_phil.wrapper\u001b[1;34m()\u001b[0m\n",
      "\u001b[1;32mh5py\\h5f.pyx\u001b[0m in \u001b[0;36mh5py.h5f.open\u001b[1;34m()\u001b[0m\n",
      "\u001b[1;31mOSError\u001b[0m: Unable to open file (unable to open file: name = 'models/model.h5', errno = 2, error message = 'No such file or directory', flags = 0, o_flags = 0)"
     ]
    }
   ],
   "source": [
    "model.load_weights('models/model.h5')                   #源文件错误，下面不能运行"
   ]
  },
  {
   "cell_type": "markdown",
   "metadata": {},
   "source": [
    "You can now see the results on new examples."
   ]
  },
  {
   "cell_type": "code",
   "execution_count": null,
   "metadata": {},
   "outputs": [],
   "source": [
    "EXAMPLES = ['3 May 1979', '5 April 09', '21th of August 2016', 'Tue 10 Jul 2007', 'Saturday May 9 2018', 'March 3 2001', 'March 3rd 2001', '1 March 2001']\n",
    "for example in EXAMPLES:\n",
    "    \n",
    "    source = string_to_int(example, Tx, human_vocab)\n",
    "    source = np.array(list(map(lambda x: to_categorical(x, num_classes=len(human_vocab)), source))).swapaxes(0,1)\n",
    "    prediction = model.predict([source, s0, c0])\n",
    "    prediction = np.argmax(prediction, axis = -1)\n",
    "    output = [inv_machine_vocab[int(i)] for i in prediction]\n",
    "    \n",
    "    print(\"source:\", example)\n",
    "    print(\"output:\", ''.join(output))"
   ]
  },
  {
   "cell_type": "markdown",
   "metadata": {},
   "source": [
    "You can also change these examples to test with your own examples. The next part will give you a better sense on what the attention mechanism is doing--i.e., what part of the input the network is paying attention to when generating a particular output character. "
   ]
  },
  {
   "cell_type": "markdown",
   "metadata": {},
   "source": [
    "## 3 - Visualizing Attention (Optional / Ungraded)\n",
    "\n",
    "Since the problem has a fixed output length of 10, it is also possible to carry out this task using 10 different softmax units to generate the 10 characters of the output. But one advantage of the attention model is that each part of the output (say the month) knows it needs to depend only on a small part of the input (the characters in the input giving the month). We can  visualize what part of the output is looking at what part of the input.\n",
    "\n",
    "Consider the task of translating \"Saturday 9 May 2018\" to \"2018-05-09\". If we visualize the computed $\\alpha^{\\langle t, t' \\rangle}$ we get this: \n",
    "\n",
    "<img src=\"images/date_attention.png\" style=\"width:600;height:300px;\"> <br>\n",
    "<caption><center> **Figure 8**: Full Attention Map</center></caption>\n",
    "\n",
    "Notice how the output ignores the \"Saturday\" portion of the input. None of the output timesteps are paying much attention to that portion of the input. We see also that 9 has been translated as 09 and May has been correctly translated into 05, with the output paying attention to the parts of the input it needs to to make the translation. The year mostly requires it to pay attention to the input's \"18\" in order to generate \"2018.\" \n",
    "\n"
   ]
  },
  {
   "cell_type": "markdown",
   "metadata": {},
   "source": [
    "### 3.1 - Getting the activations from the network\n",
    "\n",
    "Lets now visualize the attention values in your network. We'll propagate an example through the network, then visualize the values of $\\alpha^{\\langle t, t' \\rangle}$. \n",
    "\n",
    "To figure out where the attention values are located, let's start by printing a summary of the model ."
   ]
  },
  {
   "cell_type": "code",
   "execution_count": null,
   "metadata": {},
   "outputs": [],
   "source": [
    "model.summary()"
   ]
  },
  {
   "cell_type": "markdown",
   "metadata": {},
   "source": [
    "Navigate through the output of `model.summary()` above. You can see that the layer named `attention_weights` outputs the `alphas` of shape (m, 30, 1) before `dot_2` computes the context vector for every time step $t = 0, \\ldots, T_y-1$. Lets get the activations from this layer.\n",
    "\n",
    "The function `attention_map()` pulls out the attention values from your model and plots them."
   ]
  },
  {
   "cell_type": "code",
   "execution_count": null,
   "metadata": {
    "scrolled": false
   },
   "outputs": [],
   "source": [
    "attention_map = plot_attention_map(model, human_vocab, inv_machine_vocab, \"Tuesday 09 Oct 1993\", num = 7, n_s = 64)"
   ]
  },
  {
   "cell_type": "markdown",
   "metadata": {},
   "source": [
    "On the generated plot you can observe the values of the attention weights for each character of the predicted output. Examine this plot and check that where the network is paying attention makes sense to you.\n",
    "\n",
    "In the date translation application, you will observe that most of the time attention helps predict the year, and hasn't much impact on predicting the day/month."
   ]
  },
  {
   "cell_type": "markdown",
   "metadata": {},
   "source": [
    "### Congratulations!\n",
    "\n",
    "\n",
    "You have come to the end of this assignment \n",
    "\n",
    "<font color='blue'> **Here's what you should remember from this notebook**:\n",
    "\n",
    "- Machine translation models can be used to map from one sequence to another. They are useful not just for translating human languages (like French->English) but also for tasks like date format translation. \n",
    "- An attention mechanism allows a network to focus on the most relevant parts of the input when producing a specific part of the output. \n",
    "- A network using an attention mechanism can translate from inputs of length $T_x$ to outputs of length $T_y$, where $T_x$ and $T_y$ can be different. \n",
    "- You can visualize attention weights $\\alpha^{\\langle t,t' \\rangle}$ to see what the network is paying attention to while generating each output."
   ]
  },
  {
   "cell_type": "markdown",
   "metadata": {},
   "source": [
    "Congratulations on finishing this assignment! You are now able to implement an attention model and use it to learn complex mappings from one sequence to another. "
   ]
  }
 ],
 "metadata": {
  "coursera": {
   "course_slug": "nlp-sequence-models",
   "graded_item_id": "n16CQ",
   "launcher_item_id": "npjGi"
  },
  "kernelspec": {
   "display_name": "Python 3",
   "language": "python",
   "name": "python3"
  },
  "language_info": {
   "codemirror_mode": {
    "name": "ipython",
    "version": 3
   },
   "file_extension": ".py",
   "mimetype": "text/x-python",
   "name": "python",
   "nbconvert_exporter": "python",
   "pygments_lexer": "ipython3",
   "version": "3.6.5"
  },
  "widgets": {
   "application/vnd.jupyter.widget-state+json": {
    "state": {},
    "version_major": 2,
    "version_minor": 0
   }
  }
 },
 "nbformat": 4,
 "nbformat_minor": 2
}
